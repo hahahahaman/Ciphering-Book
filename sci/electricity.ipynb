{
 "cells": [
  {
   "cell_type": "markdown",
   "metadata": {},
   "source": [
    "# Current\n",
    "\n",
    "Things have an electric charge. This charge is on a spectrum ranging from the positive to the negative. Oppositely charged things attract, and like charged things repel one another.\n",
    "\n",
    "## What is conventional current?\n",
    "\n",
    "Due to history current was first thought to flow from the positive terminal to the negative terminal, but in actually the carrier of electricty is electrons, which flow from the anode (negative terminal) to the cathode (positive).\n",
    "\n",
    "![current direction](imgs/current_direction.png)\n",
    "\n",
    "What has been deemed negative and positive seems arbitrary, since everything would work if the equations flipped the signs making electrons positively charged and protons negatively charged. The labelling is probably a product of history."
   ]
  },
  {
   "cell_type": "markdown",
   "metadata": {},
   "source": [
    "# Voltage\n",
    "\n",
    "$ V = IR $"
   ]
  },
  {
   "cell_type": "markdown",
   "metadata": {},
   "source": [
    "# Resistance"
   ]
  },
  {
   "cell_type": "markdown",
   "metadata": {},
   "source": [
    "# Electrical Power\n",
    "\n",
    "$P = IV$"
   ]
  },
  {
   "cell_type": "markdown",
   "metadata": {},
   "source": [
    "### Electrons For Sale - Thinking Physics p. 417\n",
    "\n",
    "Estimate the number of electrons annually that pass through to the homes and business establishments of a typical American city of 50 000 inhabitants.\n",
    "\n",
    "a) None\n",
    "\n",
    "b) # of electrons in a pea\n",
    "\n",
    "c) # in a Great Lake\n",
    "\n",
    "d) # in Earth\n",
    "\n",
    "e) # in the Sun"
   ]
  },
  {
   "cell_type": "markdown",
   "metadata": {},
   "source": [
    "#### Answer\n",
    "\n",
    "(I thought it was c, because b and d seemed way off).\n",
    "\n",
    "Actuall it is A, because AC current doesn't cause electrons to flow, instead it causes them to oscillate at 60 Hz.\n"
   ]
  },
  {
   "cell_type": "markdown",
   "metadata": {},
   "source": [
    "# Capacitance"
   ]
  },
  {
   "cell_type": "markdown",
   "metadata": {},
   "source": [
    "# Inductance"
   ]
  },
  {
   "cell_type": "markdown",
   "metadata": {},
   "source": [
    "# Questions"
   ]
  },
  {
   "cell_type": "markdown",
   "metadata": {},
   "source": [
    "## Electric Pipe - Thinking Physics p. 393.\n",
    "\n",
    "![Pipe](imgs/electric_pipe.png)\n",
    "\n",
    "Object A has a small negative charge, object B has a small positive charge, and object C has a large negative charge. If A and B are connected by a copper wire, while C is held close, but not touching the wire, then: \n",
    "\n",
    "* charge flows from A to B\n",
    "* or does C stop it\n",
    "\n",
    "I can imagine a scenario where the negative charge from C is near infinite and it repels all the electrons in the copper wire away from it, thus separating the sea of electrons and preventing any charge from moving in the wire. (Parting the Red Sea)\n",
    "\n",
    "But, if we just have electrons in C then I don't think a near infinite amount of negative charge is possible and thus the sea of electrons won't be parted, thus charge can flow from A to B. I imagine when A and B are connect by the wire, then the electron configuration of the wire will change and some electrons will be removed from A and B will absorb equal amounts.\n",
    "\n",
    "In the book's answer they state that in practice, with copper wire, there will always be enough free electrons in the electron sea to allow charge to flow, but in semi-conductors (e.g. germanium), the number of free electrons is sometimes not enough, thus a switch can be made.\n",
    "\n",
    "![Field Effect Transistor](imgs/field_effect_transistor.png)\n",
    "\n",
    "The gate in the field-effect transistor can be given a negative charge so that charge from the source, A, cannot travel to the drain, B."
   ]
  }
 ],
 "metadata": {
  "kernelspec": {
   "display_name": "Julia 1.1.0",
   "language": "julia",
   "name": "julia-1.1"
  },
  "language_info": {
   "file_extension": ".jl",
   "mimetype": "application/julia",
   "name": "julia",
   "version": "1.1.1"
  }
 },
 "nbformat": 4,
 "nbformat_minor": 2
}
