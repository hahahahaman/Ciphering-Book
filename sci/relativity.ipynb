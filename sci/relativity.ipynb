{
 "cells": [
  {
   "cell_type": "markdown",
   "metadata": {},
   "source": [
    "# Einstein's Postulates\n",
    "\n",
    "(David Mermin - It's About Time)\n",
    "\n",
    "1. No phenomena have properties corresponding to the concept of absolute rest"
   ]
  },
  {
   "cell_type": "markdown",
   "metadata": {},
   "source": [
    "## Invariance Principles\n",
    "\n",
    "1. it doesn't matter where you are. This is the principle of translational invariance in space.\n",
    "2. it doesn't matter when you are. This is translational invariance in time.\n",
    "3. it doesn't matter how you are oriented. This is rotational invariance.\n",
    "4. it doesn't matter how fast you are as long as you have a constant velocity. This is the principle of relativity.\n",
    "\n",
    "\"it doesn't matter\" mean that the rules for describing physical phenomena remain the same.\n",
    "\n",
    "To clarify, 4. the principle of relativity: some people think that uniform velocity doesn't affect the properties of an object, but this is false; for example when light is moving uniformly toward you it is blue shifted, and when it is moving uniformly away from you it is red shifted. The principle states that the object's properties are the same in all frames of reference which are moving uniformly with the object; for example, if a light is seen as yellow when it is stationary, then, when it is moving in uniform motion, it will be guarenteed to be yellow in a frame of reference that is uniformly moving with it."
   ]
  },
  {
   "cell_type": "markdown",
   "metadata": {},
   "source": [
    "### Implications\n",
    "\n",
    "As Mermin points out, it is practical not dig deeply into the validity of truly universal invariants and instead look at their implications in relation to the world around us. What does it mean for things to be invariant in space and time?"
   ]
  },
  {
   "cell_type": "markdown",
   "metadata": {},
   "source": [
    "# Equations"
   ]
  },
  {
   "cell_type": "markdown",
   "metadata": {},
   "source": [
    "## Nonrelativistic Speeds\n",
    "\n",
    "The speed of $X$ in reference frame $Z$ is the sum of the speed $X$ in reference frame $Y$ and the the speed of $Y$ in reference frame $Z$.\n",
    "\n",
    "$v_{XZ} = v_{XY} + v_{YZ}$\n",
    "\n",
    "We know that the speed of an object in its own reference frame is 0. If we apply the above equation we get:\n",
    "\n",
    "$0 = v_{XX} = v_{XY} + v_{YX}$\n",
    "\n",
    "Further we get:\n",
    "\n",
    "$v_{XY} = -v_{YX}$"
   ]
  },
  {
   "cell_type": "markdown",
   "metadata": {},
   "source": [
    "## Measuring speed relative to light\n",
    "\n",
    "How can I measure the speed of an object? We can have a racetrack where we known the distance between start and end points, then we initiate the clock at the start line and stop it when the object crosses the finish line. This cannot be accurate though because an observer must see the object go to the finish line, which will be delayed because the speed of light is not instantaneous. We could have a second clock at the finish line that stops exactly when the object crosses, but then the start and end clocks must be synchronized. I don't know why but that might be impossible. Time and distance might vary based on the speed of an object relative to a frame of reference. A clever way to get around this is to have a photon and a mirror at the finish line so that the photon bounces back and meets the ball again. Depending on how far the ball has travel we can calculate its speed relative to the photon.\n",
    "\n",
    "Why can't we just have a clock on some kind of distance measurer on the ball? I think it's because when ball starts moving time in that frame of reference will change.\n",
    "\n",
    "Suppose we have a photon and a ball in the frame of reference of an astral carrier. \n",
    "\n",
    "Let $c$ be the speed of the photon.\n",
    "\n",
    "Let $b$ be the speed of the ball.\n",
    "\n",
    "Let $D$ be the length of the astral carrier.\n",
    "\n",
    "We assume that the speed of the ball is less than the photon. \n",
    "\n",
    "The photon and the ball start at the same time at one end of the carrier, then the photon hits a mirror at the other end and bounces back. We know at what fraction of the length of the carrier the photon must travel back towards the ball such that the two meet once again.\n",
    "\n",
    "Let's call this fraction $f$.\n",
    "\n",
    "Let $T$ be the amount of necessary for the ball and the photon to meet again."
   ]
  },
  {
   "cell_type": "markdown",
   "metadata": {},
   "source": [
    "<img src=\"imgs/relativity_stationary_astral_carrier.png\" alt=\"relativity\" style=\"width: 300px;\"/>"
   ]
  },
  {
   "cell_type": "markdown",
   "metadata": {},
   "source": [
    "$D + f D = D (1 + f) = c T$\n",
    "\n",
    "$D - f D = D (1 - f) = b T$\n",
    "\n",
    "$\\frac{c T}{b T} = \\frac{D (1 + f)}{D (1 - f)}$\n",
    "\n",
    "$$\\frac{c}{b} = \\frac{1+f}{1-f}$$\n",
    "\n",
    "The ratio of the speeds is equal to the ratio of the distances traveled, since the time traveled is the same.\n",
    "\n",
    "$ c (1 - f) = b (1+f) $\n",
    "\n",
    "$ c - cf = b + bf $\n",
    "\n",
    "$ c - b = bf + cf $\n",
    "\n",
    "$$ \\frac{c-b}{c+b} = f $$ \n",
    "\n",
    "The fraction of the length of the astral carrier is equal to the ratio of the speed of light minus the speed of the ball and the sum of the speed of light plus the speed of the ball.\n"
   ]
  },
  {
   "cell_type": "markdown",
   "metadata": {},
   "source": [
    "### Moving Astral Carrier\n",
    "\n",
    "Suppose we have a similar situation as before but we are in a frame of reference outside the astral carrier and the carrier is moving at a speed $v$, relative to us and less than the speed of light."
   ]
  },
  {
   "cell_type": "markdown",
   "metadata": {},
   "source": [
    "<img src=\"imgs/relativity_moving_astral_carrier.png\" alt=\"relativity\" style=\"width: 500px;\"/>"
   ]
  },
  {
   "cell_type": "markdown",
   "metadata": {},
   "source": [
    "$D = c T_0 - w T_0$ | After a time of $T_0$ the photon and the ball will be a distance $D$ away from one another.\n",
    "\n",
    "$D = c T_1 + w T_1$ | After $T_1$ time the photon and the ball will have traveled $D$ distance.\n",
    "\n",
    "$c T_0 - w T_0 = c T_1 + w T_1$\n",
    "\n",
    "$$\\frac{T_1}{T_0} = \\frac{c-w}{c+w}$$\n",
    "\n",
    "Thus we get a ratio of $T_1$ to $T_0$ independent of distance."
   ]
  },
  {
   "cell_type": "markdown",
   "metadata": {},
   "source": [
    "$L = c T_0 - v T_0$ | After $T_0$ the photon and the starting point on the astral carrier are $L$ distance away from one another.\n",
    "\n",
    "$f L = c T_1 + v T_1$ | After $T_1$ the photon and the ball will have traveled $f L$ distance.A\n",
    "\n",
    "$ L = \\frac{c T_1 + v T_1}{f} $\n",
    "\n",
    "$\\frac{c T_1 + v T_1}{f} = c T_0 - v T_0$\n",
    "\n",
    "$ \\frac{T_1}{T_0} = f (\\frac{c-v}{c+v}) $\n",
    "\n",
    "We get an additional expression for the ratio of time independent of distance."
   ]
  },
  {
   "cell_type": "markdown",
   "metadata": {},
   "source": [
    "Now we can get a time and distance independent expression for the fraction of the length of the carrier $f$.\n",
    "\n",
    "$ f (\\frac{c-v}{c+v}) = \\frac{c-w}{c+w} $\n",
    "\n",
    "$ f = (\\frac{c+v}{c-v})(\\frac{c-w}{c+w}) $"
   ]
  },
  {
   "cell_type": "markdown",
   "metadata": {},
   "source": [
    "Notice that when $v=0$ we get the same equation when we were in a stationary reference frame $f = \\frac{c-b}{c+w}$\n",
    "\n",
    "Also notice that we assume that the speed of light is the same in both frames of reference. This is an application of the principle of the constancy of the velocity of light.\n",
    "\n",
    "If we are to assume that this is the same race but in two different frames of reference then we must have have the fraction $f$ be the same for both observers since the relative position where the ball and the proton must be the same in any frame of reference, thus :\n",
    "\n",
    "$$ (\\frac{c+v}{c-v})(\\frac{c-w}{c+w}) = \\frac{c-b}{c+b} $$"
   ]
  },
  {
   "cell_type": "markdown",
   "metadata": {},
   "source": [
    "Let's solve for $w$, the speed of the ball in the outside frame of reference.\n",
    "\n",
    "Let's introduce two new variable $x, y$, such that:\n",
    "\n",
    "$$ \\frac{c-w}{c+w} = \\frac{x}{y} $$\n",
    "\n",
    "then:\n",
    "\n",
    "$$ x = (c-b)(c-v) $$\n",
    "\n",
    "and:\n",
    "\n",
    "$$ y = (c+b)(c+v) $$\n",
    "\n",
    "We now get:\n",
    "\n",
    "$$ (c-w)y = (c+w) x $$\n",
    "\n",
    "$$ c y - w y = c x + w x $$\n",
    "\n",
    "$$ c (y - x) = w(x + y) $$\n",
    "\n",
    "$$ w = \\frac{ c (y -x)}{x+y} $$\n",
    "\n",
    "$$ y = c^2 + c v + c b + b v $$\n",
    "\n",
    "$$ x = c^2 - c v - b c + b v $$\n",
    "\n",
    "$$ y -x = 2 c v + 2 b c = 2 c (b + v) $$\n",
    "\n",
    "$$ y + x = 2 c^2 + 2 b v $$\n",
    "\n",
    "$$ w = \\frac{ 2 c^2 (b + v)}{x+y} = \\frac{2 c^2(b+v)}{2 c^2 + 2 b v} $$\n",
    "\n",
    "$$ w = \\frac{b+v}{\\frac{2 c^2}{2 c^2} + \\frac{2 b v}{2 c ^2}} $$\n",
    "\n",
    "$$ w = \\frac{b+v}{1 + (\\frac{b}{c}) (\\frac{v}{c})} $$"
   ]
  },
  {
   "cell_type": "markdown",
   "metadata": {},
   "source": [
    "We can generalize. \n",
    "\n",
    "Let's say $X$ is the observer in space outside the astral carrier.\n",
    "\n",
    "Let $Y$ be the astral carrier.\n",
    "\n",
    "Let $Z$ be the ball.\n",
    "\n",
    "The velocity $v$ of the astral carrier is then $v_{YX}$.\n",
    "\n",
    "The velocity $b$ of the ball with reference to the carrier is $v_{ZY}$.\n",
    "\n",
    "The velocity of the ball $w$ with reference to the observer is $v_{ZX}$ "
   ]
  },
  {
   "cell_type": "markdown",
   "metadata": {},
   "source": [
    "This gives the new equations\n",
    "\n",
    "$$ \\frac{c - v_{ZX}}{c+ v_{ZX}} = (\\frac{c- v_{ZY}}{c+ v_{ZY}})(\\frac{c - v_{YX}}{c+ v_{YX}}) $$\n",
    "\n",
    "also\n",
    "\n",
    "$$ v_{ZX} = \\frac{v_{ZY} + v_{YX}}{1 + (\\frac{v_{ZY}}{c})(\\frac{v_{YX}}{c})} $$"
   ]
  },
  {
   "cell_type": "markdown",
   "metadata": {},
   "source": [
    "### Adding additional velocities"
   ]
  },
  {
   "cell_type": "markdown",
   "metadata": {},
   "source": [
    "Suppose we want an additional velocity $W$ launched from the astral carrier. What will its speed be with respect to the outside observer, that is what is $v_{WX}$?\n",
    "\n",
    "We can sub in the frames of reference into the previous equation:\n",
    "\n",
    "$$ \\frac{c - v_{WX}}{c+ v_{WX}} = (\\frac{c- v_{WZ}}{c+ v_{WZ}})(\\frac{c - v_{ZX}}{c+ v_{ZX}}) $$\n",
    "\n",
    "Then we can sub in for $\\frac{c - v_{ZX}}{c+ v_{ZX}}$  to get :\n",
    "\n",
    "$$ \\frac{c - v_{WX}}{c+ v_{WX}} = (\\frac{c- v_{WZ}}{c+ v_{WZ}})(\\frac{c- v_{ZY}}{c+ v_{ZY}})(\\frac{c - v_{YX}}{c+ v_{YX}})  $$\n",
    "\n",
    "We can see that when we extend this further to any number of objects then it will become longer but remain in the same form.\n"
   ]
  },
  {
   "cell_type": "markdown",
   "metadata": {},
   "source": [
    "## Momentum\n",
    "\n",
    "$ \\vec{p} = \\gamma m \\vec{v} $\n",
    "\n",
    "$\\gamma = \\frac{1}{\\sqrt{1- (\\frac{|\\vec{v}|}{c})^2}}$\n",
    "\n",
    "$ \\vec{v} = \\frac{\\vec{p}/m}{ \\sqrt{1 - (\\frac{|\\vec{p}|}{m c})^2}} $\n"
   ]
  },
  {
   "cell_type": "markdown",
   "metadata": {},
   "source": [
    "# Random"
   ]
  },
  {
   "cell_type": "markdown",
   "metadata": {},
   "source": [
    "[Flat Earth FAQ](https://wiki.tfes.org/Flat_Earth_-_Frequently_Asked_Questions)\n",
    "\n",
    "They present the idea of a universal accelerator, which, because of the Equivalence Principle, is indistinguisable from gravity.\n",
    "\n",
    "Q: What is Special Relativity?\n",
    "Q: Can it explain why the Earth is flat, round, or some other shape?"
   ]
  },
  {
   "cell_type": "markdown",
   "metadata": {},
   "source": [
    "\\begin{equation*}\n",
    "v' = \\frac{a \\cdot t}{\\sqrt{1+(a^2 \\cdot \\frac{t^2}{c^2})}}\n",
    "\\end{equation*}"
   ]
  },
  {
   "cell_type": "code",
   "execution_count": 1,
   "metadata": {},
   "outputs": [],
   "source": [
    "c = 3e8\n",
    "function v(a, t)\n",
    "    # SR velocity equation\n",
    "    a*t/sqrt(1+(a^2 * t^2 / c^2))\n",
    "end\n",
    "v(10, 200.0*365*24*60*60)/c"
   ]
  }
 ],
 "metadata": {
  "kernelspec": {
   "display_name": "VPython",
   "language": "python",
   "name": "vpython"
  },
  "language_info": {
   "codemirror_mode": {
    "name": "ipython",
    "version": 3
   },
   "file_extension": ".py",
   "mimetype": "text/x-python",
   "name": "python",
   "nbconvert_exporter": "python",
   "pygments_lexer": "ipython3",
   "version": "3.8.0"
  },
  "toc-autonumbering": true,
  "toc-showcode": true,
  "toc-showmarkdowntxt": false
 },
 "nbformat": 4,
 "nbformat_minor": 4
}
