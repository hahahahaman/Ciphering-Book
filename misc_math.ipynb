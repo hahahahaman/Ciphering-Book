{
 "cells": [
  {
   "cell_type": "markdown",
   "metadata": {},
   "source": [
    "# General form of the sum of integers to the power of k"
   ]
  },
  {
   "cell_type": "markdown",
   "metadata": {},
   "source": [
    "## Specializing\n",
    "\n",
    "I'm look for $\\sum_{i=1}^n i^k $, where $k \\in \\mathbb{N}^0$.\n",
    "\n",
    "Let's look at $k= 0, 1, 2$. \n",
    "\n",
    "For $k=0$, $\\sum_{i=1}^n i^0 = \\overbrace{1 + 1 + ... + 1}^\\text{n} = n$. OK, that's pretty obvious.\n",
    "\n",
    "For $k=1$, $\\sum_{i=1}^n i^1 = 1+2+3+4+...+n = \\frac{n(n+1)}{2}$. That I know, and I can prove it by induction.\n",
    "\n",
    "For $k=2$, $\\sum_{i=1}^n i^2 = 1^2+2^2+3^2+4^2+...+n^2$. This one I was not too sure about, though I had seen it before.\n",
    "\n",
    "![sums](imgs/sum_of_integers_to_k.png)"
   ]
  },
  {
   "cell_type": "markdown",
   "metadata": {},
   "source": [
    "Playing around with these pictures for a while I found that $\\sum_{i=1}^n i^1 = n^2 - \\sum_{i=1}^{n-1}i$, which visually looks like this:\n",
    "\n",
    "![](imgs/sum_of_integers.png)\n",
    "\n",
    "If we have a $n \\times n$ square, then stepping across the rows removing 1 dimensional series of blocks then we get the intended number of blocks.\n",
    "\n",
    "We can rearrange the equation in this manner: \n",
    "\n",
    "\\begin{align}\n",
    "    \\sum_{i=1}^n i &= n^2 - \\sum_{i=1}^{n-1}i \\\\\n",
    "    \\sum_{i=1}^n i + \\sum_{i=1}^{n-1}i &= n^2 \\\\\n",
    "    n + \\sum_{i=1}^n i + \\sum_{i=1}^{n-1}i &= n^2 + n \\\\\n",
    "    \\sum_{i=1}^n i + \\sum_{i=1}^{n}i &= n^2 + n \\\\\n",
    "    2 \\sum_{i=1}^n i &= n^2 + n \\\\\n",
    "    \\sum_{i=1}^n i &= \\frac{n^2 + n}{2} \\\\\n",
    "\\end{align}\n",
    "\n",
    "which is the equation we know"
   ]
  },
  {
   "cell_type": "markdown",
   "metadata": {},
   "source": [
    "Let's try to apply this to $k = 2$.\n",
    "\n",
    "![](imgs/sum_of_integers_squared_removed.png)\n",
    "\n",
    "![](imgs/sum_of_integers_squared.png)\n",
    "\n",
    "From the example above we see that $\\sum_{i=1}^3 i^2$ can be decomposed into 3 columns which have the red blocks removed. \n",
    "\n",
    "We then guess that the formula will be: \n",
    "$$ \\sum_{i=1}^n i^2 =  n(\\sum_{i=1}^n i) - \\sum_{i=1}^{n-1}{\\sum_{j=1}^{i}{j}} $$\n",
    "\n",
    "where $n(\\sum_{i=1}^n i)$ is the number of blocks in the $n$ columns and $\\sum_{i=1}^{n-1}{\\sum_{j=1}^{i}{j}}$ is the number of blocks removed.\n",
    "\n",
    "We get the forumla $\\sum_{i=1}^n i^2 = \\frac{n(n+1)(2n+1)}{6}$, which can be proven by induction.\n",
    "\n"
   ]
  },
  {
   "cell_type": "markdown",
   "metadata": {
    "toc-hr-collapsed": false
   },
   "source": [
    "## Conjecture\n",
    "\n",
    "$$ \\sum_{i=1}^n i^k = n(\\sum_{i=1}^n i^{k-1}) - \\sum_{i=1}^{n-1}{\\sum_{j=1}^{i}{j^{k-1}}} $$\n",
    "\n",
    "This is a recursive formula. I did the painstaking calculations and induction proofs to get:\n",
    "\n",
    "$\\sum_{i=1}^n i^3 = \\frac{n^2(n+1)^2}{4}$\n",
    "\n",
    "$\\sum_{i=1}^n i^4 = \\frac{n(n+1)(2n+1)(3n^2+3n-1)}{30}$\n",
    "\n",
    "Maybe I can prove the recursive formula is true using induction."
   ]
  },
  {
   "cell_type": "markdown",
   "metadata": {
    "toc-hr-collapsed": true
   },
   "source": [
    "### Failed Attempt Using Induction to Prove the Identity\n",
    "\n",
    "We know $\\sum_{i=1}^{n} i^0 = n$."
   ]
  },
  {
   "cell_type": "markdown",
   "metadata": {},
   "source": [
    "#### Base Case\n",
    "\n",
    "As has been shown while specializing:\n",
    "\n",
    "$$\\sum_{i=1}^n i^1 = n(\\sum_{i=1}^n i^{(1-1)}) - \\sum_{i=1}^{n-1}{\\sum_{j=1}^{i}{j^{(1-1)}}} = n^2 - \\sum_{i=1}^{n-1} i = n^2 - \\frac{(n-1)n}{2} = \\frac{n^2 + n}{2}$$"
   ]
  },
  {
   "cell_type": "markdown",
   "metadata": {},
   "source": [
    "#### Induction Hypothesis\n",
    "\n",
    "Suppose that: \n",
    "\n",
    "$$ \\sum_{i=1}^n i^k = n(\\sum_{i=1}^n i^{k-1}) - \\sum_{i=1}^{n-1}{\\sum_{j=1}^{i}{j^{k-1}}} $$"
   ]
  },
  {
   "cell_type": "markdown",
   "metadata": {},
   "source": [
    "#### Induction Step\n",
    "\n",
    "I want: \n",
    "\n",
    "$$ \\sum_{i=1}^n i^{k+1} = n(\\sum_{i=1}^n i^{k}) - \\sum_{i=1}^{n-1}{\\sum_{j=1}^{i}{j^{k}}} $$\n",
    "\n",
    "but I'm stuck."
   ]
  },
  {
   "cell_type": "markdown",
   "metadata": {},
   "source": [
    "### Just Show the Identity \n",
    "\n",
    "Once again the conjecture is:\n",
    "\n",
    "$$ \\sum_{i=1}^n i^k = n(\\sum_{i=1}^n i^{k-1}) - \\sum_{i=1}^{n-1}{\\sum_{j=1}^{i}{j^{k-1}}} $$\n",
    "\n",
    "I feel the weird part of this equation is $\\sum_{i=1}^{n-1}{\\sum_{j=1}^{i}{j^{k-1}}}$. Let's manipulate the conjectured equation to show it is correct.\n",
    "\n",
    "First let's get an expression for the difference, which should be equivalent to the weird part.\n",
    "\n",
    "\\begin{align}\n",
    "n(\\sum_{i=1}^n i^{k-1}) - \\sum_{i=1}^n i^k  &= \\sum_{i=1}^n [n i^{k-1} - i^k] \\\\  \n",
    "                                            &= \\sum_{i=1}^n i^{k-1}(n-i) \\\\\n",
    "                                            &= 1^{k-1}(n-1) + 2^{k-1}(n-2) + 3^{k-1}(n-3) + \\cdots + (n-1)^{k-1}(n - (n-1)) + n^{k-1}(n-n)\\\\\n",
    "                                            &= \\sum_{i=1}^{n-1} i^{k-1}(n-i)\\\\\n",
    "\\end{align}\n",
    "\n",
    "Can we get $\\sum_{i=1}^{n-1}{\\sum_{j=1}^{i}{j^{k-1}}}$ to equal the above expression?\n",
    "\n",
    "\\begin{align}\n",
    "\\sum_{i=1}^{n-1}{\\sum_{j=1}^{i}{j^{k-1}}} &= \\sum_{i=1}^{n-1}[1^{k-1} + 2^{k-1} + \\cdots + i^{k-1}] \\\\\n",
    "                                          &= 1^{k-1} + (1^{k-1} + 2^{k-1}) + (1^{k-1} + 2^{k-1} + 3^{k-1}) + \\cdots + (1^{k-1} + 2^{k-1} + \\cdots + (n-1)^{k-1})\\\\\n",
    "                                          &= 1^{k-1}(n-1) + 2^{k-1}(n-2) + \\cdots + (n-1)^{k-1}(1) \\\\\n",
    "                                          &= \\sum_{i=1}^{n-1} i^{k-1}(n-i)\n",
    "\\end{align}\n",
    "\n",
    "The answer is yes, so the conjecture is correct."
   ]
  },
  {
   "cell_type": "markdown",
   "metadata": {},
   "source": [
    "## Induction Using Undetermined Coefficients\n",
    "\n",
    "Hamming's, *Mathematical Methods*, Section 2.5, describes a closed form method of finding $\\sum_{i=1}^n i^k$."
   ]
  }
 ],
 "metadata": {
  "kernelspec": {
   "display_name": "Julia 1.1.0",
   "language": "julia",
   "name": "julia-1.1"
  },
  "language_info": {
   "file_extension": ".jl",
   "mimetype": "application/julia",
   "name": "julia",
   "version": "1.1.0"
  },
  "toc-autonumbering": true,
  "toc-showcode": true,
  "toc-showmarkdowntxt": true
 },
 "nbformat": 4,
 "nbformat_minor": 2
}
