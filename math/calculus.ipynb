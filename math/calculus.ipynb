{
 "cells": [
  {
   "cell_type": "markdown",
   "metadata": {},
   "source": [
    "# Terms"
   ]
  },
  {
   "cell_type": "markdown",
   "metadata": {},
   "source": [
    "## Limit\n",
    "\n",
    "Intuitively, we can say that the limit of an expression is the value it approaches as a variable becomes infinitely close to some value."
   ]
  },
  {
   "cell_type": "markdown",
   "metadata": {},
   "source": [
    "# Differentiation:\n",
    "\n",
    "Once understanding the concept of a derivate, the process is mechanical, much like algebra.\n",
    "\n",
    "## Summary\n",
    "\n",
    "### Definition\n",
    "\n",
    "We define it in this manner:\n",
    "\n",
    "$y = f(x)$\n",
    "\n",
    "$dy = \\Delta y = \\frac{f(x+h) - f(x)}{h}$\n",
    "\n",
    "$f'(x) = \\frac{dy}{dx} = \\frac{\\Delta y}{\\Delta x} = \\dot{y} = lim_{h \\to 0} \\frac{f(x+h) - f(x)}{h}$\n",
    "\n",
    "### Formulas\n",
    "\n",
    "$\\frac{dc}{dx} = 0 $\n",
    "\n",
    "$ \\frac{dx}{dx} = 1 $\n",
    "\n",
    "$ \\frac{d g(f(x))}{dx} = \\frac{d g(u) }{du} \\cdot \\frac{du}{dx}$\n",
    "\n",
    "$ \\frac{d u v} {dx} = u \\frac{dv}{dx} + v \\frac{du}{dx} $\n",
    "\n",
    "$ \\frac{d \\frac{u}{v}}{dx} = \\frac{v u' - u v'}{v^2}$\n",
    "\n",
    "$ \\frac{d x^n}{dx} = n x^{n-1} $\n",
    "\n",
    "$ \\frac{d u + v}{dx} = \\frac{du}{dx} + \\frac{dv}{dx} $"
   ]
  },
  {
   "cell_type": "markdown",
   "metadata": {
    "toc-hr-collapsed": true
   },
   "source": [
    "## Derivative of $e^x$:\n",
    "\n",
    "$$ \\frac{de^x}{dx} = e^x $$\n",
    "\n",
    "### Proof:\n",
    "\n",
    "The key is to know this identity (which I found on [wikipedia](https://en.wikipedia.org/wiki/E_(mathematical_constant)#Alternative_characterizations)): \n",
    "\n",
    "$e = \\lim_{n \\to \\infty}(1 + \\frac{1}{n})^n = \\lim_{h \\to 0}(1 + h)^\\frac{1}{h} = e$ \n",
    "\n",
    "Then we derive the derivative:\n",
    "\n",
    "\\begin{align}\n",
    "\\frac{de^x}{dx} &= lim_{h \\to 0} [\\frac{e^{x+h} - e^x}{h}]\\\\\n",
    "                &= lim_{h \\to 0} [e^x \\cdot \\frac{e^h - 1}{h}]\\\\\n",
    "                &= e^x \\cdot lim_{h \\to 0} [\\frac{(1+h)^\\frac{h}{h} - 1}{h}]\\\\\n",
    "                &= e^x \\cdot lim_{h \\to 0} [\\frac{(1+h)- 1}{h}]\\\\\n",
    "                &= e^x \\cdot lim_{h \\to 0} [\\frac{h}{h}]\\\\\n",
    "                &= e^x \\cdot lim_{h \\to 0} [1]\\\\\n",
    "                &= e^x\n",
    "\\end{align}"
   ]
  },
  {
   "cell_type": "markdown",
   "metadata": {},
   "source": [
    "### Generalize?\n",
    "\n",
    "$$ \\frac{dAe^{\\alpha x}}{dx}  = \\alpha Ae^{\\alpha x}$$\n",
    "\n",
    "#### Proof:\n",
    "\n",
    "If $\\alpha \\in \\mathbb{N^0}$, then I can come up with an answer. For fractional or negative values this won't work, because we're using the binomial theorem: \n",
    "\n",
    "$(a + b)^n = \\sum_{i = 0}^{n}[{n \\choose i} a^{n-i} b^{i}] = {n \\choose 0} a^n b^0 + {n \\choose 1} a^{n-1} b^1 + {n \\choose 2} a^{n-2} b^2 + \\ldots  + {n \\choose n-1} a^1 b^{n-1} + {n \\choose n} a^0 b^n $\n",
    "\n",
    "Then doing the derivation:\n",
    "\n",
    "\\begin{align}\n",
    "\\frac{dAe^{\\alpha x}}{dx}   &= lim_{h \\to 0} [\\frac{Ae^{\\alpha(x+h)} - Ae^{\\alpha x}}{h}]\\\\\n",
    "                            &= Ae^{\\alpha x} \\cdot lim_{h \\to 0} [\\frac{e^{\\alpha h} - 1}{h}]\\\\\n",
    "                            &= Ae^{\\alpha x} \\cdot lim_{h \\to 0} [\\frac{(1+h)^\\frac{\\alpha h}{h} - 1}{h}]\\\\\n",
    "                            &= Ae^{\\alpha x} \\cdot lim_{h \\to 0} [\\frac{(1+h)^\\alpha - 1}{h}]\\\\\n",
    "                            &= Ae^{\\alpha x} \\cdot lim_{h \\to 0} [\\frac{(1 + \\alpha h + {\\alpha \\choose 2} h^2 + \\ldots + {\\alpha \\choose \\alpha} h^\\alpha) - 1 }{h}] \\ \\text{(using binomial theorem)}\\\\\n",
    "                            &= Ae^{\\alpha x} \\cdot lim_{h \\to 0} [\\frac{\\alpha h + \\ldots + h^\\alpha}{h}]\\\\\n",
    "                            &= Ae^{\\alpha x} \\cdot lim_{h \\to 0} [\\alpha + {\\alpha \\choose 2} h^1 +  \\ldots + h^{\\alpha -1}]\\\\ \n",
    "                            &= Ae^{\\alpha x} \\cdot \\alpha\\\\\n",
    "                            &= \\alpha Ae^{\\alpha x}\n",
    "\\end{align}"
   ]
  },
  {
   "cell_type": "markdown",
   "metadata": {},
   "source": [
    "## Derivative of sqrt{x} + 1\n",
    "\n",
    "### Delta Method:\n",
    "\n",
    "\\begin{align}\n",
    "\\frac{\\Delta[\\sqrt{x} +1]}{\\Delta x} &= \\frac{(\\sqrt{x+ \\Delta x} + 1) - (\\sqrt{x+} + 1)}{\\Delta x}\\\\\n",
    "                                     &= \\frac{\\sqrt{x + \\Delta x} - \\sqrt{x}}{\\Delta x}\\\\\n",
    "                                     &= \\frac{(\\sqrt{x + \\Delta x} - \\sqrt{x})(\\sqrt{x + \\Delta x} + \\sqrt{x})}{\\Delta x (\\sqrt{x + \\Delta x} + \\sqrt{x})}\\\\\n",
    "                                     &= \\frac{x+\\Delta x - x}{\\Delta x (\\sqrt{x + \\Delta x} + \\sqrt{x})}\\\\\n",
    "                                     &= \\frac{\\Delta x}{\\Delta x (\\sqrt{x + \\Delta x} + \\sqrt{x})}\\\\\n",
    "                                     &= \\frac{1}{\\sqrt{x + \\Delta x} + \\sqrt{x}}\\\\\n",
    "                      D[\\sqrt{x} +1] &= \\lim_{\\Delta x \\to 0} \\frac{1}{\\sqrt{x + \\Delta x} + \\sqrt{x}}\\\\\n",
    "                                     &= \\frac{1}{2\\sqrt{x}}\n",
    "\\end{align}"
   ]
  },
  {
   "cell_type": "markdown",
   "metadata": {},
   "source": [
    "## Derivative of x^n\n",
    "\n",
    "$ \\frac{d x^n}{dx} = n x^{n-1} $"
   ]
  },
  {
   "cell_type": "markdown",
   "metadata": {},
   "source": [
    "## Composite Functions\n",
    "\n",
    "### Chain rule \n",
    "\n",
    "$ \\frac{d [g(f(x))]}{d x} = \\frac{d g}{d u} \\frac{d u}{d x} = \\frac{d g(f(x))}{d f(x)} \\frac{d f(x)}{d x} = g'(f(x)) \\cdot f'(x) = y'(u) \\cdot u' = D[g \\circ f (x), x] = D[g(u), u] \\circ f(x) \\cdot D[f(x), x]$\n",
    "\n",
    "There's a $u$ substitution thing going on, which is quite clever. I wish I thought of that.\n",
    "\n",
    "Extending:\n",
    "\n",
    "Let $u_i = f_1(f_2(\\ldots f_i(x) \\ldots))$, $ 1 \\le i \\le n$.\n",
    "\n",
    "$ \\frac{d [f_1(f_2(\\ldots f_{n-1}(f_n (x)) \\ldots ))]}{dx} = \\frac{d u_1}{d u_2} \\cdot \\frac{d u_2}{d u_3} \\cdot \\ldots \\cdot \\frac{d u_{n-1}}{d u_n} \\cdot \\frac{d u_n}{dx} $\n",
    "\n",
    "^ I should test this on some examples to get an intuition."
   ]
  },
  {
   "cell_type": "markdown",
   "metadata": {},
   "source": [
    "## Derivative of Products and Quotients"
   ]
  },
  {
   "cell_type": "markdown",
   "metadata": {},
   "source": []
  },
  {
   "cell_type": "markdown",
   "metadata": {},
   "source": [
    "# Integration:\n",
    "\n",
    "## Area:\n",
    "\n",
    "What do I believe is true about area?\n",
    "\n",
    "- square: $A =s^2$\n",
    "- triangle: $A = \\frac{bh}{2}$\n",
    "- areas can be summed up\n",
    "- two congruent objects have the same area"
   ]
  },
  {
   "cell_type": "markdown",
   "metadata": {},
   "source": [
    "# Relationship Between Integration and Differentiation\n",
    "\n",
    "Integration and Differentiation are inverse processes, like multiplication and division, addition and subtraction, sin and arcsin, matrix multiplication and inverse matrix multiplication."
   ]
  },
  {
   "cell_type": "markdown",
   "metadata": {},
   "source": [
    "# Exercises"
   ]
  },
  {
   "cell_type": "markdown",
   "metadata": {},
   "source": [
    "## Hamming - Methods of Math - Exercise 11.2:\n",
    "\n",
    "Draw a right triangle and drop a perpendicular from the right angle to the hypotenuse. This divides the original triangle $T_1$ into two triangles $T_2$ and $T_3$. The 3 triangles are similar. Derive Pythagoras' theorem.\n",
    "\n",
    "<img src=\"imgs/pythagoras.png\" alt=\"pythagoras\" style=\"width: 700px;\"/>\n",
    "\n",
    "#### Ideas:\n",
    "\n",
    "- I could use trig. (sin, cos).\n",
    "- I could use ratios? (also trig.)\n",
    "\n",
    "#### Solution:\n",
    "\n",
    "We know: \n",
    "\n",
    "$sin(\\theta) = \\frac{AB}{AC} = \\frac{AD}{AB} \\implies \\frac{AB^2}{AC} = AD$\n",
    "\n",
    "$sin(\\phi) = \\frac{BC}{AC} = \\frac{CD}{BC} \\implies \\frac{BC^2}{AC} = CD$\n",
    "\n",
    "Clearly, $AD + CD = AC$, thus, by substituting in the 2 previous eqns we get:\n",
    "\n",
    "$AD + CD = \\frac{AB^2}{AC} + \\frac{BC^2}{AC} = AC$,\n",
    "\n",
    "by multiplying both sides by $AC$ it produces Pythagoras' theorem: $AB^2 + BC^2 = AC^2$"
   ]
  },
  {
   "cell_type": "code",
   "execution_count": 1,
   "metadata": {},
   "outputs": [
    {
     "name": "stdout",
     "output_type": "stream",
     "text": [
      "\u001b[32m\u001b[1m  Updating\u001b[22m\u001b[39m registry at `~/.julia/registries/General`\n",
      "\u001b[32m\u001b[1m  Updating\u001b[22m\u001b[39m git-repo `https://github.com/JuliaRegistries/General.git`\n",
      "\u001b[2K\u001b[?25h\u001b[32m\u001b[1m Resolving\u001b[22m\u001b[39m package versions...\n",
      "\u001b[32m\u001b[1m Installed\u001b[22m\u001b[39m FixedPointNumbers ─ v0.6.1\n",
      "\u001b[32m\u001b[1m Installed\u001b[22m\u001b[39m FFMPEG ──────────── v0.2.3\n",
      "\u001b[32m\u001b[1m Installed\u001b[22m\u001b[39m Plots ───────────── v0.27.0\n",
      "\u001b[32m\u001b[1m Installed\u001b[22m\u001b[39m IterTools ───────── v1.2.0\n",
      "\u001b[32m\u001b[1m Installed\u001b[22m\u001b[39m StaticArrays ────── v0.11.1\n",
      "\u001b[32m\u001b[1m Installed\u001b[22m\u001b[39m GeometryTypes ───── v0.7.6\n",
      "\u001b[32m\u001b[1m Installed\u001b[22m\u001b[39m Colors ──────────── v0.9.6\n",
      "\u001b[32m\u001b[1m Installed\u001b[22m\u001b[39m DataAPI ─────────── v1.1.0\n",
      "\u001b[32m\u001b[1m Installed\u001b[22m\u001b[39m PlotThemes ──────── v0.4.0\n",
      "\u001b[32m\u001b[1m Installed\u001b[22m\u001b[39m Missings ────────── v0.4.3\n",
      "\u001b[32m\u001b[1m Installed\u001b[22m\u001b[39m Showoff ─────────── v0.3.1\n",
      "\u001b[32m\u001b[1m Installed\u001b[22m\u001b[39m StatsBase ───────── v0.32.0\n",
      "\u001b[32m\u001b[1m Installed\u001b[22m\u001b[39m DataStructures ──── v0.17.2\n",
      "\u001b[32m\u001b[1m Installed\u001b[22m\u001b[39m PlotUtils ───────── v0.6.0\n",
      "\u001b[32m\u001b[1m Installed\u001b[22m\u001b[39m GR ──────────────── v0.41.0\n",
      "\u001b[32m\u001b[1m  Updating\u001b[22m\u001b[39m `~/.julia/environments/v1.2/Project.toml`\n",
      " \u001b[90m [91a5bcdd]\u001b[39m\u001b[92m + Plots v0.27.0\u001b[39m\n",
      "\u001b[32m\u001b[1m  Updating\u001b[22m\u001b[39m `~/.julia/environments/v1.2/Manifest.toml`\n",
      " \u001b[90m [3da002f7]\u001b[39m\u001b[92m + ColorTypes v0.8.0\u001b[39m\n",
      " \u001b[90m [5ae59095]\u001b[39m\u001b[92m + Colors v0.9.6\u001b[39m\n",
      " \u001b[90m [d38c429a]\u001b[39m\u001b[92m + Contour v0.5.1\u001b[39m\n",
      " \u001b[90m [9a962f9c]\u001b[39m\u001b[92m + DataAPI v1.1.0\u001b[39m\n",
      " \u001b[90m [864edb3b]\u001b[39m\u001b[92m + DataStructures v0.17.2\u001b[39m\n",
      " \u001b[90m [c87230d0]\u001b[39m\u001b[92m + FFMPEG v0.2.3\u001b[39m\n",
      " \u001b[90m [53c48c17]\u001b[39m\u001b[92m + FixedPointNumbers v0.6.1\u001b[39m\n",
      " \u001b[90m [28b8d3ca]\u001b[39m\u001b[92m + GR v0.41.0\u001b[39m\n",
      " \u001b[90m [4d00f742]\u001b[39m\u001b[92m + GeometryTypes v0.7.6\u001b[39m\n",
      " \u001b[90m [c8e1da08]\u001b[39m\u001b[92m + IterTools v1.2.0\u001b[39m\n",
      " \u001b[90m [442fdcdd]\u001b[39m\u001b[92m + Measures v0.3.0\u001b[39m\n",
      " \u001b[90m [e1d29d7a]\u001b[39m\u001b[92m + Missings v0.4.3\u001b[39m\n",
      " \u001b[90m [77ba4419]\u001b[39m\u001b[92m + NaNMath v0.3.2\u001b[39m\n",
      " \u001b[90m [bac558e1]\u001b[39m\u001b[92m + OrderedCollections v1.1.0\u001b[39m\n",
      " \u001b[90m [ccf2f8ad]\u001b[39m\u001b[92m + PlotThemes v0.4.0\u001b[39m\n",
      " \u001b[90m [995b91a9]\u001b[39m\u001b[92m + PlotUtils v0.6.0\u001b[39m\n",
      " \u001b[90m [91a5bcdd]\u001b[39m\u001b[92m + Plots v0.27.0\u001b[39m\n",
      " \u001b[90m [3cdcf5f2]\u001b[39m\u001b[92m + RecipesBase v0.7.0\u001b[39m\n",
      " \u001b[90m [189a3867]\u001b[39m\u001b[92m + Reexport v0.2.0\u001b[39m\n",
      " \u001b[90m [ae029012]\u001b[39m\u001b[92m + Requires v0.5.2\u001b[39m\n",
      " \u001b[90m [992d4aef]\u001b[39m\u001b[92m + Showoff v0.3.1\u001b[39m\n",
      " \u001b[90m [a2af1166]\u001b[39m\u001b[92m + SortingAlgorithms v0.3.1\u001b[39m\n",
      " \u001b[90m [90137ffa]\u001b[39m\u001b[92m + StaticArrays v0.11.1\u001b[39m\n",
      " \u001b[90m [2913bbd2]\u001b[39m\u001b[92m + StatsBase v0.32.0\u001b[39m\n",
      "\u001b[32m\u001b[1m  Building\u001b[22m\u001b[39m GR ────→ `~/.julia/packages/GR/ZI5OE/deps/build.log`\n",
      "\u001b[32m\u001b[1m  Building\u001b[22m\u001b[39m FFMPEG → `~/.julia/packages/FFMPEG/bkWgb/deps/build.log`\n",
      "\u001b[32m\u001b[1m  Building\u001b[22m\u001b[39m Plots ─→ `~/.julia/packages/Plots/Iuc9S/deps/build.log`\n"
     ]
    },
    {
     "name": "stderr",
     "output_type": "stream",
     "text": [
      "┌ Info: Precompiling Plots [91a5bcdd-55d7-5caf-9e0b-520d859cae80]\n",
      "└ @ Base loading.jl:1242\n"
     ]
    },
    {
     "ename": "ArgumentError",
     "evalue": "ArgumentError: Package PlotlyJS not found in current path:\n- Run `import Pkg; Pkg.add(\"PlotlyJS\")` to install the PlotlyJS package.\n",
     "output_type": "error",
     "traceback": [
      "ArgumentError: Package PlotlyJS not found in current path:\n- Run `import Pkg; Pkg.add(\"PlotlyJS\")` to install the PlotlyJS package.\n",
      "",
      "Stacktrace:",
      " [1] require(::Module, ::Symbol) at ./loading.jl:876",
      " [2] top-level scope at /home/demonseaman/.julia/packages/Plots/Iuc9S/src/backends.jl:465",
      " [3] eval at ./boot.jl:330 [inlined]",
      " [4] _initialize_backend(::Plots.PlotlyJSBackend) at /home/demonseaman/.julia/packages/Plots/Iuc9S/src/backends.jl:464",
      " [5] backend(::Plots.PlotlyJSBackend) at /home/demonseaman/.julia/packages/Plots/Iuc9S/src/backends.jl:177",
      " [6] #plotlyjs#274 at /home/demonseaman/.julia/packages/Plots/Iuc9S/src/backends.jl:33 [inlined]",
      " [7] plotlyjs() at /home/demonseaman/.julia/packages/Plots/Iuc9S/src/backends.jl:33",
      " [8] top-level scope at In[1]:5"
     ]
    }
   ],
   "source": [
    "## Looking at some plots\n",
    "using Pkg\n",
    "Pkg.add(\"Plots\")\n",
    "using Plots\n",
    "plotlyjs()\n",
    "\n",
    "f(x) = (x^2 - 1)/(x-1)\n",
    "#plot(sin, 0,1, fmt = :png)\n",
    "plot(f, -2, 2, yticks = -3:0.1:20)"
   ]
  },
  {
   "cell_type": "code",
   "execution_count": null,
   "metadata": {},
   "outputs": [],
   "source": []
  }
 ],
 "metadata": {
  "kernelspec": {
   "display_name": "Julia 1.1.0",
   "language": "julia",
   "name": "julia-1.1"
  },
  "language_info": {
   "file_extension": ".jl",
   "mimetype": "application/julia",
   "name": "julia",
   "version": "1.2.0"
  },
  "toc-autonumbering": true,
  "toc-showcode": true,
  "toc-showmarkdowntxt": true
 },
 "nbformat": 4,
 "nbformat_minor": 2
}
