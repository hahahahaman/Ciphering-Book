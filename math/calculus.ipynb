{
 "cells": [
  {
   "cell_type": "markdown",
   "metadata": {},
   "source": [
    "# Terms"
   ]
  },
  {
   "cell_type": "markdown",
   "metadata": {},
   "source": [
    "## Limit\n",
    "\n",
    "Intuitively, we can say that the limit of an expression is the value it approaches as a variable becomes infinitely close to some value."
   ]
  },
  {
   "cell_type": "markdown",
   "metadata": {},
   "source": [
    "# Differentiation:\n",
    "\n",
    "## Summary\n",
    "\n",
    "### Definition\n",
    "\n",
    "We define it in this manner:\n",
    "\n",
    "$y = f(x)$\n",
    "\n",
    "$dy = \\Delta y = \\frac{f(x+h) - f(x)}{h}$\n",
    "\n",
    "$f'(x) = \\frac{dy}{dx} = \\frac{\\Delta y}{\\Delta x} = \\dot{y} = lim_{h \\to 0} \\frac{f(x+h) - f(x)}{h}$\n",
    "\n",
    "### Formulas\n",
    "\n",
    "$\\frac{dc}{dx} = 0 $\n",
    "\n",
    "$ \\frac{dx}{dx} = 1 $\n",
    "\n",
    "$ \\frac{d g(f(x))}{dx} = \\frac{d g(u) }{du} \\cdot \\frac{du}{dx}$\n",
    "\n",
    "$ \\frac{d u v} {dx} = u \\frac{dv}{dx} + v \\frac{du}{dx} $\n",
    "\n",
    "$ \\frac{d \\frac{u}{v}}{dx} = \\frac{v u' - u v'}{v^2}$\n",
    "\n",
    "$ \\frac{d x^n}{dx} = n x^{n-1} $\n",
    "\n",
    "$ \\frac{d u + v}{dx} = \\frac{du}{dx} + \\frac{dv}{dx} $"
   ]
  },
  {
   "cell_type": "markdown",
   "metadata": {
    "toc-hr-collapsed": true
   },
   "source": [
    "## Derivative of $e^x$:\n",
    "\n",
    "$$ \\frac{de^x}{dx} = e^x $$\n",
    "\n",
    "### Proof:\n",
    "\n",
    "The key is to know this identity (which I found on [wikipedia](https://en.wikipedia.org/wiki/E_(mathematical_constant)#Alternative_characterizations)): \n",
    "\n",
    "$e = \\lim_{n \\to \\infty}(1 + \\frac{1}{n})^n = \\lim_{h \\to 0}(1 + h)^\\frac{1}{h} = e$ \n",
    "\n",
    "Then we derive the derivative:\n",
    "\n",
    "\\begin{align}\n",
    "\\frac{de^x}{dx} &= lim_{h \\to 0} [\\frac{e^{x+h} - e^x}{h}]\\\\\n",
    "                &= lim_{h \\to 0} [e^x \\cdot \\frac{e^h - 1}{h}]\\\\\n",
    "                &= e^x \\cdot lim_{h \\to 0} [\\frac{(1+h)^\\frac{h}{h} - 1}{h}]\\\\\n",
    "                &= e^x \\cdot lim_{h \\to 0} [\\frac{(1+h)- 1}{h}]\\\\\n",
    "                &= e^x \\cdot lim_{h \\to 0} [\\frac{h}{h}]\\\\\n",
    "                &= e^x \\cdot lim_{h \\to 0} [1]\\\\\n",
    "                &= e^x\n",
    "\\end{align}"
   ]
  },
  {
   "cell_type": "markdown",
   "metadata": {},
   "source": [
    "### Generalize?\n",
    "\n",
    "$$ \\frac{dAe^{\\alpha x}}{dx}  = \\alpha Ae^{\\alpha x}$$\n",
    "\n",
    "#### Proof:\n",
    "\n",
    "If $\\alpha \\in \\mathbb{N^0}$, then I can come up with an answer. For fractional or negative values this won't work, because we're using the binomial theorem: \n",
    "\n",
    "$(a + b)^n = \\sum_{i = 0}^{n}[{n \\choose i} a^{n-i} b^{i}] = {n \\choose 0} a^n b^0 + {n \\choose 1} a^{n-1} b^1 + {n \\choose 2} a^{n-2} b^2 + \\ldots  + {n \\choose n-1} a^1 b^{n-1} + {n \\choose n} a^0 b^n $\n",
    "\n",
    "Then doing the derivation:\n",
    "\n",
    "\\begin{align}\n",
    "\\frac{dAe^{\\alpha x}}{dx}   &= lim_{h \\to 0} [\\frac{Ae^{\\alpha(x+h)} - Ae^{\\alpha x}}{h}]\\\\\n",
    "                            &= Ae^{\\alpha x} \\cdot lim_{h \\to 0} [\\frac{e^{\\alpha h} - 1}{h}]\\\\\n",
    "                            &= Ae^{\\alpha x} \\cdot lim_{h \\to 0} [\\frac{(1+h)^\\frac{\\alpha h}{h} - 1}{h}]\\\\\n",
    "                            &= Ae^{\\alpha x} \\cdot lim_{h \\to 0} [\\frac{(1+h)^\\alpha - 1}{h}]\\\\\n",
    "                            &= Ae^{\\alpha x} \\cdot lim_{h \\to 0} [\\frac{(1 + \\alpha h + {\\alpha \\choose 2} h^2 + \\ldots + {\\alpha \\choose \\alpha} h^\\alpha) - 1 }{h}] \\ \\text{(using binomial theorem)}\\\\\n",
    "                            &= Ae^{\\alpha x} \\cdot lim_{h \\to 0} [\\frac{\\alpha h + \\ldots + h^\\alpha}{h}]\\\\\n",
    "                            &= Ae^{\\alpha x} \\cdot lim_{h \\to 0} [\\alpha + {\\alpha \\choose 2} h^1 +  \\ldots + h^{\\alpha -1}]\\\\ \n",
    "                            &= Ae^{\\alpha x} \\cdot \\alpha\\\\\n",
    "                            &= \\alpha Ae^{\\alpha x}\n",
    "\\end{align}"
   ]
  },
  {
   "cell_type": "markdown",
   "metadata": {},
   "source": [
    "## Derivative of sqrt{x} + 1\n",
    "\n",
    "### Delta Method:\n",
    "\n",
    "\\begin{align}\n",
    "\\frac{\\Delta[\\sqrt{x} +1]}{\\Delta x} &= \\frac{(\\sqrt{x+ \\Delta x} + 1) - (\\sqrt{x+} + 1)}{\\Delta x}\\\\\n",
    "                                     &= \\frac{\\sqrt{x + \\Delta x} - \\sqrt{x}}{\\Delta x}\\\\\n",
    "                                     &= \\frac{(\\sqrt{x + \\Delta x} - \\sqrt{x})(\\sqrt{x + \\Delta x} + \\sqrt{x})}{\\Delta x (\\sqrt{x + \\Delta x} + \\sqrt{x})}\\\\\n",
    "                                     &= \\frac{x+\\Delta x - x}{\\Delta x (\\sqrt{x + \\Delta x} + \\sqrt{x})}\\\\\n",
    "                                     &= \\frac{\\Delta x}{\\Delta x (\\sqrt{x + \\Delta x} + \\sqrt{x})}\\\\\n",
    "                                     &= \\frac{1}{\\sqrt{x + \\Delta x} + \\sqrt{x}}\\\\\n",
    "                      D[\\sqrt{x} +1] &= \\lim_{\\Delta x \\to 0} \\frac{1}{\\sqrt{x + \\Delta x} + \\sqrt{x}}\\\\\n",
    "                                     &= \\frac{1}{2\\sqrt{x}}\n",
    "\\end{align}"
   ]
  },
  {
   "cell_type": "markdown",
   "metadata": {},
   "source": [
    "## Derivative of x^n\n",
    "\n",
    "$ \\frac{d x^n}{dx} = n x^{n-1} $"
   ]
  },
  {
   "cell_type": "markdown",
   "metadata": {},
   "source": [
    "## Composite Functions\n",
    "\n",
    "### Chain rule \n",
    "\n",
    "$ \\frac{d [g(f(x))]}{d x} = \\frac{d g}{d u} \\frac{d u}{d x} = \\frac{d g(f(x))}{d f(x)} \\frac{d f(x)}{d x} = g'(f(x)) \\cdot f'(x) = y'(u) \\cdot u' = D[g \\circ f (x), x] = D[g(u), u] \\circ f(x) \\cdot D[f(x), x]$\n",
    "\n",
    "There's a $u$ substitution thing going on, which is quite clever. I wish I thought of that.\n",
    "\n",
    "Extending:\n",
    "\n",
    "Let $u_i = f_1(f_2(\\ldots f_i(x) \\ldots))$, $ 1 \\le i \\le n$.\n",
    "\n",
    "$ \\frac{d [f_1(f_2(\\ldots f_{n-1}(f_n (x)) \\ldots ))]}{dx} = \\frac{d u_1}{d u_2} \\cdot \\frac{d u_2}{d u_3} \\cdot \\ldots \\cdot \\frac{d u_{n-1}}{d u_n} \\cdot \\frac{d u_n}{dx} $\n",
    "\n",
    "^ I should test this on some examples to get an intuition."
   ]
  },
  {
   "cell_type": "markdown",
   "metadata": {},
   "source": [
    "## Derivative of Products and Quotients"
   ]
  },
  {
   "cell_type": "markdown",
   "metadata": {},
   "source": []
  },
  {
   "cell_type": "markdown",
   "metadata": {},
   "source": [
    "# Integration:\n",
    "\n",
    "## Area:\n",
    "\n",
    "What do I believe is true about area?\n",
    "\n",
    "- square: $A =s^2$\n",
    "- triangle: $A = \\frac{bh}{2}$\n",
    "- areas can be summed up\n",
    "- two congruent objects have the same area"
   ]
  },
  {
   "cell_type": "markdown",
   "metadata": {},
   "source": [
    "# Relationship Between Integration and Differentiation\n",
    "\n",
    "Integration and Differentiation are inverse processes, like multiplication and division, addition and subtraction, sin and arcsin, matrix multiplication and inverse matrix multiplication."
   ]
  },
  {
   "cell_type": "markdown",
   "metadata": {},
   "source": [
    "# Exercises"
   ]
  },
  {
   "cell_type": "markdown",
   "metadata": {},
   "source": [
    "## Hamming - Methods of Math - Exercise 11.2:\n",
    "\n",
    "Draw a right triangle and drop a perpendicular from the right angle to the hypotenuse. This divides the original triangle $T_1$ into two triangles $T_2$ and $T_3$. The 3 triangles are similar. Derive Pythagoras' theorem.\n",
    "\n",
    "<img src=\"imgs/pythagoras.png\" alt=\"pythagoras\" style=\"width: 700px;\"/>\n",
    "\n",
    "#### Ideas:\n",
    "\n",
    "- I could use trig. (sin, cos).\n",
    "- I could use ratios? (also trig.)\n",
    "\n",
    "#### Solution:\n",
    "\n",
    "We know: \n",
    "\n",
    "$sin(\\theta) = \\frac{AB}{AC} = \\frac{AD}{AB} \\implies \\frac{AB^2}{AC} = AD$\n",
    "\n",
    "$sin(\\phi) = \\frac{BC}{AC} = \\frac{CD}{BC} \\implies \\frac{BC^2}{AC} = CD$\n",
    "\n",
    "Clearly, $AD + CD = AC$, thus, by substituting in the 2 previous eqns we get:\n",
    "\n",
    "$AD + CD = \\frac{AB^2}{AC} + \\frac{BC^2}{AC} = AC$,\n",
    "\n",
    "by multiplying both sides by $AC$ it produces Pythagoras' theorem: $AB^2 + BC^2 = AC^2$"
   ]
  },
  {
   "cell_type": "code",
   "execution_count": 8,
   "metadata": {},
   "outputs": [
    {
     "name": "stdout",
     "output_type": "stream",
     "text": [
      "\u001b[32m\u001b[1m Resolving\u001b[22m\u001b[39m package versions...\n",
      "\u001b[32m\u001b[1m  Updating\u001b[22m\u001b[39m `~/.julia/environments/v1.1/Project.toml`\n",
      "\u001b[90m [no changes]\u001b[39m\n",
      "\u001b[32m\u001b[1m  Updating\u001b[22m\u001b[39m `~/.julia/environments/v1.1/Manifest.toml`\n",
      "\u001b[90m [no changes]\u001b[39m\n"
     ]
    },
    {
     "data": {
      "application/vnd.plotly.v1+json": {
       "data": [
        {
         "colorbar": {
          "title": {
           "text": ""
          }
         },
         "hoverinfo": "text",
         "legendgroup": "y1",
         "line": {
          "color": "rgba(0, 154, 250, 1.000)",
          "dash": "solid",
          "shape": "linear",
          "width": 1
         },
         "mode": "lines",
         "name": "y1",
         "showlegend": true,
         "text": [
          null,
          null,
          null,
          null,
          null,
          null,
          null,
          null,
          null,
          null,
          null,
          null,
          null,
          null,
          null,
          null,
          null,
          null,
          null
         ],
         "type": "scatter",
         "x": [
          -1.9609367239208475,
          -1.5997403313265088,
          -1.3826763547775045,
          -1.1991515251369371,
          -0.9997921198677943,
          -0.8160003818614874,
          -0.6189562143740406,
          -0.3906612226458709,
          -0.18777957555591424,
          -0.009870653839119958,
          0.18409782662127785,
          0.3792191150112484,
          0.5949506504976171,
          0.8002137629793739,
          1.0136397740454022,
          1.1932990146673805,
          1.4126425839454564,
          1.618832008514834,
          1.9491634560642397
         ],
         "xaxis": "x",
         "y": [
          -0.9609367239208476,
          -0.5997403313265088,
          -0.3826763547775045,
          -0.19915152513693707,
          0.00020788013220573792,
          0.1839996181385126,
          0.38104378562595936,
          0.6093387773541292,
          0.8122204244440858,
          0.99012934616088,
          1.1840978266212778,
          1.3792191150112483,
          1.594950650497617,
          1.800213762979374,
          2.0136397740454073,
          2.1932990146673803,
          2.412642583945457,
          2.618832008514834,
          2.9491634560642397
         ],
         "yaxis": "y",
         "zmax": 0.1,
         "zmin": -0.1
        }
       ],
       "layout": {
        "annotations": [],
        "height": 400,
        "legend": {
         "bgcolor": "rgba(255, 255, 255, 1.000)",
         "bordercolor": "rgba(0, 0, 0, 1)",
         "font": {
          "color": "rgba(0, 0, 0, 1)",
          "family": "sans-serif",
          "size": 11
         },
         "tracegroupgap": 0,
         "x": 1,
         "y": 1
        },
        "margin": {
         "b": 20,
         "l": 0,
         "r": 0,
         "t": 20
        },
        "paper_bgcolor": "rgba(255, 255, 255, 1.000)",
        "plot_bgcolor": "rgba(255, 255, 255, 1.000)",
        "showlegend": true,
        "width": 600,
        "xaxis": {
         "anchor": "y",
         "domain": [
          0.0658209390492855,
          0.9934383202099738
         ],
         "gridcolor": "rgba(0, 0, 0, 0.1)",
         "gridwidth": 0.5,
         "linecolor": "rgba(0, 0, 0, 1)",
         "mirror": false,
         "range": [
          -2.0782397293204,
          2.066466461463792
         ],
         "showgrid": true,
         "showline": true,
         "showticklabels": true,
         "tickangle": 0,
         "tickcolor": "rgb(0, 0, 0)",
         "tickfont": {
          "color": "rgba(0, 0, 0, 1)",
          "family": "sans-serif",
          "size": 11
         },
         "tickmode": "array",
         "ticks": "inside",
         "ticktext": [
          "-2",
          "-1",
          "0",
          "1",
          "2"
         ],
         "tickvals": [
          -2,
          -1,
          0,
          1,
          2
         ],
         "title": {
          "font": {
           "color": "rgba(0, 0, 0, 1)",
           "family": "sans-serif",
           "size": 15
          },
          "text": ""
         },
         "type": "linear",
         "visible": true,
         "zeroline": false,
         "zerolinecolor": "rgba(0, 0, 0, 1)"
        },
        "yaxis": {
         "anchor": "x",
         "domain": [
          0.03762029746281716,
          0.9901574803149606
         ],
         "gridcolor": "rgba(0, 0, 0, 0.1)",
         "gridwidth": 0.5,
         "linecolor": "rgba(0, 0, 0, 1)",
         "mirror": false,
         "range": [
          -1.0782397293204002,
          3.066466461463792
         ],
         "showgrid": true,
         "showline": true,
         "showticklabels": true,
         "tickangle": 0,
         "tickcolor": "rgb(0, 0, 0)",
         "tickfont": {
          "color": "rgba(0, 0, 0, 1)",
          "family": "sans-serif",
          "size": 11
         },
         "tickmode": "array",
         "ticks": "inside",
         "ticktext": [
          "-1.0",
          "-0.9",
          "-0.8",
          "-0.7",
          "-0.6",
          "-0.5",
          "-0.4",
          "-0.3",
          "-0.2",
          "-0.1",
          "0.0",
          "0.1",
          "0.2",
          "0.3",
          "0.4",
          "0.5",
          "0.6",
          "0.7",
          "0.8",
          "0.9",
          "1.0",
          "1.1",
          "1.2",
          "1.3",
          "1.4",
          "1.5",
          "1.6",
          "1.7",
          "1.8",
          "1.9",
          "2.0",
          "2.1",
          "2.2",
          "2.3",
          "2.4",
          "2.5",
          "2.6",
          "2.7",
          "2.8",
          "2.9",
          "3.0"
         ],
         "tickvals": [
          -1,
          -0.9,
          -0.8,
          -0.7,
          -0.6,
          -0.5,
          -0.4,
          -0.3,
          -0.2,
          -0.1,
          0,
          0.1,
          0.2,
          0.3,
          0.4,
          0.5,
          0.6,
          0.7,
          0.8,
          0.9,
          1,
          1.1,
          1.2,
          1.3,
          1.4,
          1.5,
          1.6,
          1.7,
          1.8,
          1.9,
          2,
          2.1,
          2.2,
          2.3,
          2.4,
          2.5,
          2.6,
          2.7,
          2.8,
          2.9,
          3
         ],
         "title": {
          "font": {
           "color": "rgba(0, 0, 0, 1)",
           "family": "sans-serif",
           "size": 15
          },
          "text": ""
         },
         "type": "linear",
         "visible": true,
         "zeroline": false,
         "zerolinecolor": "rgba(0, 0, 0, 1)"
        }
       }
      },
      "image/png": "[encoded data removed]",
      "text/html": [
       "<div\n",
       "    class=\"webio-mountpoint\"\n",
       "    data-webio-mountpoint=\"9664582673751101606\"\n",
       ">\n",
       "    <script>\n",
       "    if (window.require && require.defined && require.defined(\"nbextensions/webio/main\")) {\n",
       "        console.log(\"Jupyter WebIO extension detected, not mounting.\");\n",
       "    } else if (window.WebIO) {\n",
       "        WebIO.mount(\n",
       "            document.querySelector('[data-webio-mountpoint=\"9664582673751101606\"]'),\n",
       "            {\"props\":{},\"nodeType\":\"Scope\",\"type\":\"node\",\"instanceArgs\":{\"imports\":{\"data\":[{\"name\":\"Plotly\",\"type\":\"js\",\"url\":\"\\/assetserver\\/2485a04a53cc49cd9ea3a619e5b963c9d512c66f-plotly-latest.min.js\"},{\"name\":null,\"type\":\"js\",\"url\":\"\\/assetserver\\/93154263877eba2f486c55e4659733c4d48649ce-plotly_webio.bundle.js\"}],\"type\":\"async_block\"},\"id\":\"12942331945818603459\",\"handlers\":{\"_toImage\":[\"(function (options){return this.Plotly.toImage(this.plotElem,options).then((function (data){return WebIO.setval({\\\"name\\\":\\\"image\\\",\\\"scope\\\":\\\"12942331945818603459\\\",\\\"id\\\":\\\"ob_75\\\",\\\"type\\\":\\\"observable\\\"},data)}))})\"],\"__get_gd_contents\":[\"(function (prop){prop==\\\"data\\\" ? (WebIO.setval({\\\"name\\\":\\\"__gd_contents\\\",\\\"scope\\\":\\\"12942331945818603459\\\",\\\"id\\\":\\\"ob_76\\\",\\\"type\\\":\\\"observable\\\"},this.plotElem.data)) : undefined; return prop==\\\"layout\\\" ? (WebIO.setval({\\\"name\\\":\\\"__gd_contents\\\",\\\"scope\\\":\\\"12942331945818603459\\\",\\\"id\\\":\\\"ob_76\\\",\\\"type\\\":\\\"observable\\\"},this.plotElem.layout)) : undefined})\"],\"_downloadImage\":[\"(function (options){return this.Plotly.downloadImage(this.plotElem,options)})\"],\"_commands\":[\"(function (args){var fn=args.shift(); var elem=this.plotElem; var Plotly=this.Plotly; args.unshift(elem); return Plotly[fn].apply(this,args)})\"]},\"systemjs_options\":null,\"mount_callbacks\":[\"function () {\\n    var handler = ((function (Plotly){var gd=this.dom.querySelector(\\\"#plot-3fe8de17-b8e2-423d-861f-7ebc935450a6\\\"); this.plotElem=gd; this.Plotly=Plotly; (window.Blink!==undefined) ? (gd.style.width=\\\"100%\\\", gd.style.height=\\\"100vh\\\", gd.style.marginLeft=\\\"0%\\\", gd.style.marginTop=\\\"0vh\\\") : undefined; window.onresize=(function (){return Plotly.Plots.resize(gd)}); Plotly.newPlot(gd,[],{\\\"margin\\\":{\\\"l\\\":50,\\\"b\\\":50,\\\"r\\\":50,\\\"t\\\":60}},{}); gd.on(\\\"plotly_hover\\\",(function (data){var filtered_data=WebIO.PlotlyCommands.filterEventData(gd,data,\\\"hover\\\"); return !(filtered_data.isnil) ? (WebIO.setval({\\\"name\\\":\\\"hover\\\",\\\"scope\\\":\\\"12942331945818603459\\\",\\\"id\\\":\\\"ob_71\\\",\\\"type\\\":\\\"observable\\\"},filtered_data.out)) : undefined})); gd.on(\\\"plotly_unhover\\\",(function (){return WebIO.setval({\\\"name\\\":\\\"hover\\\",\\\"scope\\\":\\\"12942331945818603459\\\",\\\"id\\\":\\\"ob_71\\\",\\\"type\\\":\\\"observable\\\"},{})})); gd.on(\\\"plotly_selected\\\",(function (data){var filtered_data=WebIO.PlotlyCommands.filterEventData(gd,data,\\\"selected\\\"); return !(filtered_data.isnil) ? (WebIO.setval({\\\"name\\\":\\\"selected\\\",\\\"scope\\\":\\\"12942331945818603459\\\",\\\"id\\\":\\\"ob_72\\\",\\\"type\\\":\\\"observable\\\"},filtered_data.out)) : undefined})); gd.on(\\\"plotly_deselect\\\",(function (){return WebIO.setval({\\\"name\\\":\\\"selected\\\",\\\"scope\\\":\\\"12942331945818603459\\\",\\\"id\\\":\\\"ob_72\\\",\\\"type\\\":\\\"observable\\\"},{})})); gd.on(\\\"plotly_relayout\\\",(function (data){var filtered_data=WebIO.PlotlyCommands.filterEventData(gd,data,\\\"relayout\\\"); return !(filtered_data.isnil) ? (WebIO.setval({\\\"name\\\":\\\"relayout\\\",\\\"scope\\\":\\\"12942331945818603459\\\",\\\"id\\\":\\\"ob_74\\\",\\\"type\\\":\\\"observable\\\"},filtered_data.out)) : undefined})); return gd.on(\\\"plotly_click\\\",(function (data){var filtered_data=WebIO.PlotlyCommands.filterEventData(gd,data,\\\"click\\\"); return !(filtered_data.isnil) ? (WebIO.setval({\\\"name\\\":\\\"click\\\",\\\"scope\\\":\\\"12942331945818603459\\\",\\\"id\\\":\\\"ob_73\\\",\\\"type\\\":\\\"observable\\\"},filtered_data.out)) : undefined}))}));\\n    (WebIO.importBlock({\\\"data\\\":[{\\\"name\\\":\\\"Plotly\\\",\\\"type\\\":\\\"js\\\",\\\"url\\\":\\\"\\/assetserver\\/2485a04a53cc49cd9ea3a619e5b963c9d512c66f-plotly-latest.min.js\\\"},{\\\"name\\\":null,\\\"type\\\":\\\"js\\\",\\\"url\\\":\\\"\\/assetserver\\/93154263877eba2f486c55e4659733c4d48649ce-plotly_webio.bundle.js\\\"}],\\\"type\\\":\\\"async_block\\\"})).then((imports) => handler.apply(this, imports));\\n}\\n\"],\"observables\":{\"_toImage\":{\"sync\":false,\"id\":\"ob_78\",\"value\":{}},\"hover\":{\"sync\":false,\"id\":\"ob_71\",\"value\":{}},\"selected\":{\"sync\":false,\"id\":\"ob_72\",\"value\":{}},\"__gd_contents\":{\"sync\":false,\"id\":\"ob_76\",\"value\":{}},\"click\":{\"sync\":false,\"id\":\"ob_73\",\"value\":{}},\"image\":{\"sync\":true,\"id\":\"ob_75\",\"value\":\"\"},\"__get_gd_contents\":{\"sync\":false,\"id\":\"ob_80\",\"value\":\"\"},\"_downloadImage\":{\"sync\":false,\"id\":\"ob_79\",\"value\":{}},\"relayout\":{\"sync\":false,\"id\":\"ob_74\",\"value\":{}},\"_commands\":{\"sync\":false,\"id\":\"ob_77\",\"value\":[\"relayout\",{\"showlegend\":true,\"xaxis\":{\"showticklabels\":true,\"gridwidth\":0.5,\"tickvals\":[-2.0,-1.0,0.0,1.0,2.0],\"visible\":true,\"ticks\":\"inside\",\"range\":[-2.0782397293204,2.066466461463792],\"domain\":[0.0658209390492855,0.9934383202099738],\"tickmode\":\"array\",\"linecolor\":\"rgba(0, 0, 0, 1.000)\",\"showgrid\":true,\"title\":\"\",\"mirror\":false,\"tickangle\":0,\"showline\":true,\"gridcolor\":\"rgba(0, 0, 0, 0.100)\",\"titlefont\":{\"color\":\"rgba(0, 0, 0, 1.000)\",\"family\":\"sans-serif\",\"size\":15},\"tickcolor\":\"rgb(0, 0, 0)\",\"ticktext\":[\"-2\",\"-1\",\"0\",\"1\",\"2\"],\"zeroline\":false,\"type\":\"-\",\"tickfont\":{\"color\":\"rgba(0, 0, 0, 1.000)\",\"family\":\"sans-serif\",\"size\":11},\"zerolinecolor\":\"rgba(0, 0, 0, 1.000)\",\"anchor\":\"y1\"},\"paper_bgcolor\":\"rgba(255, 255, 255, 1.000)\",\"annotations\":[],\"height\":400,\"margin\":{\"l\":0,\"b\":20,\"r\":0,\"t\":20},\"plot_bgcolor\":\"rgba(255, 255, 255, 1.000)\",\"yaxis\":{\"showticklabels\":true,\"gridwidth\":0.5,\"tickvals\":[-1.0,-0.9,-0.8,-0.7,-0.6,-0.5,-0.4,-0.3,-0.2,-0.1,0.0,0.1,0.2,0.3,0.4,0.5,0.6,0.7,0.8,0.9,1.0,1.1,1.2,1.3,1.4,1.5,1.6,1.7,1.8,1.9,2.0,2.1,2.2,2.3,2.4,2.5,2.6,2.7,2.8,2.9,3.0],\"visible\":true,\"ticks\":\"inside\",\"range\":[-1.0782397293204002,3.066466461463792],\"domain\":[0.03762029746281716,0.9901574803149606],\"tickmode\":\"array\",\"linecolor\":\"rgba(0, 0, 0, 1.000)\",\"showgrid\":true,\"title\":\"\",\"mirror\":false,\"tickangle\":0,\"showline\":true,\"gridcolor\":\"rgba(0, 0, 0, 0.100)\",\"titlefont\":{\"color\":\"rgba(0, 0, 0, 1.000)\",\"family\":\"sans-serif\",\"size\":15},\"tickcolor\":\"rgb(0, 0, 0)\",\"ticktext\":[\"-1.0\",\"-0.9\",\"-0.8\",\"-0.7\",\"-0.6\",\"-0.5\",\"-0.4\",\"-0.3\",\"-0.2\",\"-0.1\",\"0.0\",\"0.1\",\"0.2\",\"0.3\",\"0.4\",\"0.5\",\"0.6\",\"0.7\",\"0.8\",\"0.9\",\"1.0\",\"1.1\",\"1.2\",\"1.3\",\"1.4\",\"1.5\",\"1.6\",\"1.7\",\"1.8\",\"1.9\",\"2.0\",\"2.1\",\"2.2\",\"2.3\",\"2.4\",\"2.5\",\"2.6\",\"2.7\",\"2.8\",\"2.9\",\"3.0\"],\"zeroline\":false,\"type\":\"-\",\"tickfont\":{\"color\":\"rgba(0, 0, 0, 1.000)\",\"family\":\"sans-serif\",\"size\":11},\"zerolinecolor\":\"rgba(0, 0, 0, 1.000)\",\"anchor\":\"x1\"},\"legend\":{\"tracegroupgap\":0,\"bordercolor\":\"rgba(0, 0, 0, 1.000)\",\"bgcolor\":\"rgba(255, 255, 255, 1.000)\",\"font\":{\"color\":\"rgba(0, 0, 0, 1.000)\",\"family\":\"sans-serif\",\"size\":11},\"y\":1.0,\"x\":1.0},\"width\":600}]}}},\"children\":[{\"props\":{\"id\":\"plot-3fe8de17-b8e2-423d-861f-7ebc935450a6\"},\"nodeType\":\"DOM\",\"type\":\"node\",\"instanceArgs\":{\"namespace\":\"html\",\"tag\":\"div\"},\"children\":[]}]},\n",
       "            window,\n",
       "        );\n",
       "    } else {\n",
       "        document\n",
       "            .querySelector('[data-webio-mountpoint=\"9664582673751101606\"]')\n",
       "            .innerHTML = '<strong>WebIO not detected.</strong>';\n",
       "    }\n",
       "    </script>\n",
       "</div>\n"
      ]
     },
     "execution_count": 8,
     "metadata": {},
     "output_type": "execute_result"
    }
   ],
   "source": [
    "## Looking at some plots\n",
    "using Pkg\n",
    "Pkg.add(\"Plots\")\n",
    "using Plots\n",
    "plotlyjs()\n",
    "\n",
    "f(x) = (x^2 - 1)/(x-1)\n",
    "#plot(sin, 0,1, fmt = :png)\n",
    "plot(f, -2, 2, yticks = -3:0.1:20)"
   ]
  }
 ],
 "metadata": {
  "kernelspec": {
   "display_name": "Julia 1.1.0",
   "language": "julia",
   "name": "julia-1.1"
  },
  "language_info": {
   "file_extension": ".jl",
   "mimetype": "application/julia",
   "name": "julia",
   "version": "1.1.1"
  },
  "toc-autonumbering": true,
  "toc-showcode": true,
  "toc-showmarkdowntxt": true
 },
 "nbformat": 4,
 "nbformat_minor": 2
}
