{
 "cells": [
  {
   "cell_type": "markdown",
   "metadata": {
    "toc-hr-collapsed": true
   },
   "source": [
    "# General form of the sum of integers to the power of k"
   ]
  },
  {
   "cell_type": "markdown",
   "metadata": {
    "toc-hr-collapsed": true
   },
   "source": [
    "## Specializing\n",
    "\n",
    "I'm look for $\\sum_{i=1}^n i^k $, where $k \\in \\mathbb{N}^0$.\n",
    "\n",
    "Let's look at $k= 0, 1, 2$. \n",
    "\n",
    "For $k=0$, $\\sum_{i=1}^n i^0 = \\overbrace{1 + 1 + ... + 1}^\\text{n} = n$. OK, that's pretty obvious.\n",
    "\n",
    "For $k=1$, $\\sum_{i=1}^n i^1 = 1+2+3+4+...+n = \\frac{n(n+1)}{2}$. That I know, and I can prove it by induction.\n",
    "\n",
    "For $k=2$, $\\sum_{i=1}^n i^2 = 1^2+2^2+3^2+4^2+...+n^2$. This one I was not too sure about, though I had seen it before.\n",
    "\n",
    "![sums](imgs/sum_of_integers_to_k.png)"
   ]
  },
  {
   "cell_type": "markdown",
   "metadata": {},
   "source": [
    "Playing around with these pictures for a while I found that $\\sum_{i=1}^n i^1 = n^2 - \\sum_{i=1}^{n-1}i$, which visually looks like this:\n",
    "\n",
    "![](imgs/sum_of_integers.png)\n",
    "\n",
    "If we have a $n \\times n$ square, then stepping across the rows removing 1 dimensional series of blocks then we get the intended number of blocks.\n",
    "\n",
    "We can rearrange the equation in this manner: \n",
    "\n",
    "\\begin{align}\n",
    "    \\sum_{i=1}^n i &= n^2 - \\sum_{i=1}^{n-1}i \\\\\n",
    "    \\sum_{i=1}^n i + \\sum_{i=1}^{n-1}i &= n^2 \\\\\n",
    "    n + \\sum_{i=1}^n i + \\sum_{i=1}^{n-1}i &= n^2 + n \\\\\n",
    "    \\sum_{i=1}^n i + \\sum_{i=1}^{n}i &= n^2 + n \\\\\n",
    "    2 \\sum_{i=1}^n i &= n^2 + n \\\\\n",
    "    \\sum_{i=1}^n i &= \\frac{n^2 + n}{2} \\\\\n",
    "\\end{align}\n",
    "\n",
    "which is the equation we know"
   ]
  },
  {
   "cell_type": "markdown",
   "metadata": {},
   "source": [
    "Let's try to apply this to $k = 2$.\n",
    "\n",
    "![](imgs/sum_of_integers_squared_removed.png)\n",
    "\n",
    "![](imgs/sum_of_integers_squared.png)\n",
    "\n",
    "From the example above we see that $\\sum_{i=1}^3 i^2$ can be decomposed into 3 columns which have the red blocks removed. \n",
    "\n",
    "We then guess that the formula will be: \n",
    "$$ \\sum_{i=1}^n i^2 =  n(\\sum_{i=1}^n i) - \\sum_{i=1}^{n-1}{\\sum_{j=1}^{i}{j}} $$\n",
    "\n",
    "where $n(\\sum_{i=1}^n i)$ is the number of blocks in the $n$ columns and $\\sum_{i=1}^{n-1}{\\sum_{j=1}^{i}{j}}$ is the number of blocks removed.\n",
    "\n",
    "We get the forumla $\\sum_{i=1}^n i^2 = \\frac{n(n+1)(2n+1)}{6}$, which can be proven by induction.\n",
    "\n"
   ]
  },
  {
   "cell_type": "markdown",
   "metadata": {
    "toc-hr-collapsed": true
   },
   "source": [
    "## Conjecture\n",
    "\n",
    "$$ \\sum_{i=1}^n i^k = n(\\sum_{i=1}^n i^{k-1}) - \\sum_{i=1}^{n-1}{\\sum_{j=1}^{i}{j^{k-1}}} $$\n",
    "\n",
    "This is a recursive formula. I did the painstaking calculations and induction proofs to get:\n",
    "\n",
    "$\\sum_{i=1}^n i^3 = \\frac{n^2(n+1)^2}{4}$\n",
    "\n",
    "$\\sum_{i=1}^n i^4 = \\frac{n(n+1)(2n+1)(3n^2+3n-1)}{30}$\n",
    "\n",
    "Maybe I can prove the recursive formula is true using induction."
   ]
  },
  {
   "cell_type": "markdown",
   "metadata": {
    "toc-hr-collapsed": true
   },
   "source": [
    "### Failed Attempt Using Induction to Prove the Identity\n",
    "\n",
    "We know $\\sum_{i=1}^{n} i^0 = n$."
   ]
  },
  {
   "cell_type": "markdown",
   "metadata": {},
   "source": [
    "#### Base Case\n",
    "\n",
    "As has been shown while specializing:\n",
    "\n",
    "$$\\sum_{i=1}^n i^1 = n(\\sum_{i=1}^n i^{(1-1)}) - \\sum_{i=1}^{n-1}{\\sum_{j=1}^{i}{j^{(1-1)}}} = n^2 - \\sum_{i=1}^{n-1} i = n^2 - \\frac{(n-1)n}{2} = \\frac{n^2 + n}{2}$$"
   ]
  },
  {
   "cell_type": "markdown",
   "metadata": {},
   "source": [
    "#### Induction Hypothesis\n",
    "\n",
    "Suppose that: \n",
    "\n",
    "$$ \\sum_{i=1}^n i^k = n(\\sum_{i=1}^n i^{k-1}) - \\sum_{i=1}^{n-1}{\\sum_{j=1}^{i}{j^{k-1}}} $$"
   ]
  },
  {
   "cell_type": "markdown",
   "metadata": {},
   "source": [
    "#### Induction Step\n",
    "\n",
    "I want: \n",
    "\n",
    "$$ \\sum_{i=1}^n i^{k+1} = n(\\sum_{i=1}^n i^{k}) - \\sum_{i=1}^{n-1}{\\sum_{j=1}^{i}{j^{k}}} $$\n",
    "\n",
    "but I'm stuck."
   ]
  },
  {
   "cell_type": "markdown",
   "metadata": {},
   "source": [
    "### Just Show the Identity \n",
    "\n",
    "Once again the conjecture is:\n",
    "\n",
    "$$ \\sum_{i=1}^n i^k = n(\\sum_{i=1}^n i^{k-1}) - \\sum_{i=1}^{n-1}{\\sum_{j=1}^{i}{j^{k-1}}} $$\n",
    "\n",
    "I feel the weird part of this equation is $\\sum_{i=1}^{n-1}{\\sum_{j=1}^{i}{j^{k-1}}}$. Let's manipulate the conjectured equation to show it is correct.\n",
    "\n",
    "First let's get an expression for the difference, which should be equivalent to the weird part.\n",
    "\n",
    "\\begin{align}\n",
    "n(\\sum_{i=1}^n i^{k-1}) - \\sum_{i=1}^n i^k  &= \\sum_{i=1}^n [n i^{k-1} - i^k] \\\\  \n",
    "                                            &= \\sum_{i=1}^n i^{k-1}(n-i) \\\\\n",
    "                                            &= 1^{k-1}(n-1) + 2^{k-1}(n-2) + 3^{k-1}(n-3) + \\cdots + (n-1)^{k-1}(n - (n-1)) + n^{k-1}(n-n)\\\\\n",
    "                                            &= \\sum_{i=1}^{n-1} i^{k-1}(n-i)\\\\\n",
    "\\end{align}\n",
    "\n",
    "Can we get $\\sum_{i=1}^{n-1}{\\sum_{j=1}^{i}{j^{k-1}}}$ to equal the above expression?\n",
    "\n",
    "\\begin{align}\n",
    "\\sum_{i=1}^{n-1}{\\sum_{j=1}^{i}{j^{k-1}}} &= \\sum_{i=1}^{n-1}[1^{k-1} + 2^{k-1} + \\cdots + i^{k-1}] \\\\\n",
    "                                          &= 1^{k-1} + (1^{k-1} + 2^{k-1}) + (1^{k-1} + 2^{k-1} + 3^{k-1}) + \\cdots + (1^{k-1} + 2^{k-1} + \\cdots + (n-1)^{k-1})\\\\\n",
    "                                          &= 1^{k-1}(n-1) + 2^{k-1}(n-2) + \\cdots + (n-1)^{k-1}(1) \\\\\n",
    "                                          &= \\sum_{i=1}^{n-1} i^{k-1}(n-i)\n",
    "\\end{align}\n",
    "\n",
    "The answer is yes, so the conjecture is correct."
   ]
  },
  {
   "cell_type": "markdown",
   "metadata": {
    "toc-hr-collapsed": true
   },
   "source": [
    "## Induction Using Undetermined Coefficients\n",
    "\n",
    "Hamming's, *Mathematical Methods*, Section 2.5, describes a closed form method of finding $s_{n,k} = \\sum_{i=1}^n i^k$.\n",
    "\n",
    "The book describes a method which tries to strengthen tradiational mathematical induction. Here are the steps:\n",
    "\n",
    "1. Assume the general form of the answer.\n",
    "2. Impose the condition that the induction be true n = 0 (or any other convenient value).\n",
    "3. Impose the induction condition that the step from $m-1$ to $m$ be true.\n",
    "4. From steps 2 and 3, determine the unknown coefficients.\n",
    "\n",
    "Performing all the steps ensures that the answer will be correct, since steps 2 and 3 are induction.\n",
    "\n",
    "If all the steps cannot be performed then we know the general form is incorrect, but hopefully we can find some suggestions for how to modify it."
   ]
  },
  {
   "cell_type": "markdown",
   "metadata": {},
   "source": [
    "### Let's Try some Simple Example\n",
    "\n",
    "How about $s_{n, 1} = \\sum_{i=1}^n i$?\n",
    "\n",
    "We assume the form is $s_{n,1} = a_2 n^2 + a_1 n + a_0$.\n",
    "\n",
    "For $n = 0$, we get $0 = a_ 0$, so $s_{n,1} = a_2 n^2 + a_1 n$.\n",
    "\n",
    "As per step 3, we impose the induction condition for $n-1$ and $n$.\n",
    "\n",
    "We get $a_2(n-1)^2 + a_1(n-1)$ and $a_2 n^2 + a_1 n$\n",
    "\n",
    "Then we equate the two equations, by adding $n$ to the left side:\n",
    "\n",
    "$$ a_2(n-1)^2 + a_1(n-1) + n = a_2 n^2 + a_1 n $$\n",
    "\n",
    "We do the binomial expansion and then rearrange:\n",
    "\n",
    "\\begin{align}\n",
    "a_2(n-1)^2 + a_1(n-1) + n = & a_2(n^2 -2n + 1) + a_1(n - 1) + n \\\\\n",
    "                          = & \\ n^2 [a_2] \\ + \\\\\n",
    "                            & \\ n [-2 a_2 + a_1 + 1] \\ + \\\\\n",
    "                            & \\ [a_2 - a_1] \\\\\n",
    "                          = & \\ a_2 n^2 + a_1 n\n",
    "\\end{align}\n",
    "\n",
    "This yields:\n",
    "\n",
    "\\begin{align}\n",
    "n [-2 a_2 + 1] + [a_2 - a_1] = 0\n",
    "\\end{align}\n",
    "\n",
    "We see that the factor which is multiplied by $n$ must equal zero and the constant terms must equal $0$, so:\n",
    "\n",
    "$$ -2 a_2 + 1 = 0 $$\n",
    "\n",
    "$$ a_2 = \\frac{1}{2} $$\n",
    "\n",
    "$$ a_2 - a_1 = 0$$\n",
    "\n",
    "$$a_1 = a_2 = \\frac{1}{2} $$\n",
    "\n",
    "This completes step 4, and gives $s_{n,1} = \\frac{n^2+n}{2}$."
   ]
  },
  {
   "cell_type": "markdown",
   "metadata": {
    "toc-hr-collapsed": true
   },
   "source": [
    "### Extending to the General Case\n",
    "\n",
    "$$s_{n,k} = \\sum_{i=1}^n i^k$$\n",
    "\n",
    "We are going to guess and assume that $s_{n,k} = a_{k+1} n^{k+1} + a_k n^k+ \\cdots + a_1 n^1 + a_0$, which is a $k+1$ degree polynomial.\n",
    "\n",
    "We can see for $n = 0$, $s_{0, k} = 0 = a_0$.\n",
    "\n",
    "We assume the induction condition for $n-1$ and $n$, resulting in $s_{n-1, k} = a_{k+1} (n-1)^{k+1} + a_k (n-1)^k + \\cdots + a_1 (n-1)$ and $s_{n, k} = a_{k+1} n^{k+1} + a_k n^k + \\cdots + a_1 n$\n",
    "\n",
    "Then we equate the two by adding $n^k$ to the former equation:\n",
    "\n",
    "\\begin{align}\n",
    "a_{k+1}(n-1)^{k+1} + a_k (n-1)^k + \\ldots +  a_1(n-1) + n^k = & a_{k+1}(n^{k+1} - {k+1 \\choose 1} n^k + {k+1 \\choose 2} n^{k-1} + \\cdots + 1) \\ + \\\\\n",
    "                                                              & a_k(n^k - {k \\choose 1} n^{k-1} + \\cdots + 1) \\ + \\\\\n",
    "                                                              & \\vdots\\\\\n",
    "                                                              & + a_1 n + n^k \\\\\n",
    "                                                            = & \\ n^{k+1} [a_{k+1}]\\\\\n",
    "                                                            + & n^k [-{k+1 \\choose 1} a_{k+1} + a_k + 1] \\\\\n",
    "                                                            + & n^{k-1} [{k+1 \\choose 2} a_{k+1} - {k \\choose 1} a_k  + a_{k-1}] \\\\\n",
    "                                                            + & n^{k-2} [-{k+1 \\choose 3} a_{k+1} + {k \\choose 2} a_k - {k-1 \\choose 1}a_{k-1} + a_{k-2}] \\\\\n",
    "                                                              & \\vdots\\\\\n",
    "                                                            + & n^2[-{k+1 \\choose k-1} a_{k+1} + {k \\choose k-2} a_k - \\ldots + a_2]\\\\\n",
    "                                                            + & n[{k+1 \\choose k} a_{k+1} - {k \\choose k-1} a_k + \\ldots + a_1]\\\\\n",
    "                                                            \\pm & [a_{k+1} - a_k + a_{k-1} - a_{k-2} + \\ldots]\\\\\n",
    "                                                            = & a_{k+1} n^{k+1} + a_k n^k + \\cdots + a_1 n\n",
    "\\end{align}\n",
    "\n",
    "Notice that it follows the binomial expansion vertically.\n",
    "\n",
    "We can subtract the bottom equation from both sides to get:\n",
    "\n",
    "\\begin{align}\n",
    "   & n^k [-{k+1 \\choose 1} a_{k+1} + 1] \\\\\n",
    "+  & \\ n^{k-1} [{k+1 \\choose 2} a_{k+1} - {k \\choose 1} a_k ] \\\\\n",
    "+  & \\ n^{k-2} [-{k+1 \\choose 3} a_{k+1} + {k \\choose 2} a_k - {k-1 \\choose 1}a_{k-1}] \\\\\n",
    "   & \\vdots\\\\\n",
    "+  & \\ n^2[-{k+1 \\choose k-1} a_{k+1} + {k \\choose k-2} a_k - \\ldots]\\\\\n",
    "+  & \\ n[{k+1 \\choose k} a_{k+1} - {k \\choose k-1} a_k + \\ldots]\\\\\n",
    "\\pm  & \\ [a_{k+1} - a_k + a_{k-1} - a_{k-2} + \\ldots]\\\\\n",
    "=  & \\ 0\n",
    "\\end{align}\n",
    "\n",
    "We then get a system of linear equation that we must solve from the factors of n to various powers and the constants:\n",
    "\n",
    "\\begin{align}\n",
    "-(k+1) a_{k+1} + 1 =& 0\\\\\n",
    "\\frac{k(k+1)}{2} a_{k+1} - k a_k =& 0\\\\\n",
    "-\\frac{(k+1)k(k-1)}{6} a_{k+1} + \\frac{k(k-1)}{2} a_k - (k-1)a_{k-1} =& 0\\\\\n",
    "& \\vdots \\\\\n",
    "\\pm(a_{k+1} - a_k + a_{k-1} - \\ldots) =& 0\n",
    "\\end{align}"
   ]
  },
  {
   "cell_type": "markdown",
   "metadata": {},
   "source": [
    "#### Checking the Extension\n",
    "\n",
    "$$ s_{n,1} = \\sum_{i=1}^n i = a_2 n^2 + a_1 n = \\frac{1}{2} n^2 + \\frac{1}{2} n $$\n",
    "\n",
    "We have the system of linear equations:\n",
    "\n",
    "\\begin{align}\n",
    "-2 a_2 + 1 =& 0\\\\\n",
    "a_2 - a_1 =& 0 \\\\\n",
    "a_2 =& \\frac{1}{2} \\\\\n",
    "a_1 = a_1 =& \\frac{1}{2}\n",
    "\\end{align}\n",
    "\n",
    "This is correct.\n",
    "\n",
    "Let's go to the next value, $k=2$:\n",
    "\n",
    "$$ s_{n,2} = \\sum_{i=1}^n i^2 = a_3 n^3 + a_2 n^2 + a_1 n = \\frac{1}{3} n^3 +  \\frac{1}{2} n^2 + \\frac{1}{6} n $$\n",
    "\n",
    "\\begin{align}\n",
    "-3 a_3 + 1 =& 0\\\\\n",
    "3 a_3 - 2a_2 =& 0 \\\\\n",
    "-a_3 + a_2 - a_1 =& 0 \\\\\n",
    "a_3 =& \\frac{1}{3} \\\\\n",
    "a_2 = \\frac{3}{2} \\cdot \\frac{1}{3} =& \\frac{1}{2}\\\\\n",
    "a_1 = -a_3 + a_2 = -\\frac{1}{3} + \\frac{1}{2} =& \\frac{1}{6}\n",
    "\\end{align}\n",
    "\n",
    "This too is correct.\n",
    "\n",
    "$k=3$:\n",
    "\n",
    "$$ s_{n,3} = \\sum_{i=1}^n i^3 = a_4 n^4 + a_3 n^3 + a_2 n^2 + a_1 n = \\frac{1}{4} n^4 + \\frac{1}{2}n^3 + \\frac{1}{4}n^2$$\n",
    "\n",
    "\n",
    "\\begin{align}\n",
    "-4 a_4 + 1 =& 0\\\\\n",
    "6 a_4 - 3 a_3 =& 0 \\\\\n",
    "-4 a_4 + 3 a_3 - 2 a_2 =& 0 \\\\\n",
    "a_4 - a_3 + a_2 - a_1 =& 0 \\\\\n",
    "a_4 =& \\frac{1}{4} \\\\\n",
    "a_3 =& \\frac{1}{2}\\\\\n",
    "a_2= -2a_3 + \\frac{3}{2} a_3 = -\\frac{1}{2} + \\frac{3}{4} =& \\frac{1}{4} \\\\\n",
    "a_1 = a_4 - a_3 + a_2 = \\frac{1}{4} - \\frac{1}{2} + \\frac{1}{4} =& 0\n",
    "\\end{align}\n",
    "\n",
    "Good."
   ]
  },
  {
   "cell_type": "markdown",
   "metadata": {
    "toc-hr-collapsed": true
   },
   "source": [
    "### Conclusion\n",
    "\n",
    "$$s_{n,k} = \\sum_{i=1}^n i^k = a_{k+1}n^{k+1} + a_k n^k + \\ldots + a_2 n^2 + a_1 n $$\n",
    "\n",
    "From the method of induction with unknown coefficients we get a system of linear equation. Vertically each $a_j$ has a factor that follows the binomial expansion:\n",
    "\n",
    "\\begin{align}\n",
    "-(k+1) a_{k+1} + 1 =& 0\\\\\n",
    "\\frac{k(k+1)}{2} a_{k+1} - k a_k =& 0\\\\\n",
    "-\\frac{(k+1)k(k-1)}{6} a_{k+1} + \\frac{k(k-1)}{2} a_k - (k-1)a_{k-1} =& 0\\\\\n",
    "& \\vdots \\\\\n",
    "\\pm(a_{k+1} - a_k + a_{k-1} - \\ldots) =& 0\n",
    "\\end{align}"
   ]
  },
  {
   "cell_type": "markdown",
   "metadata": {
    "toc-hr-collapsed": true
   },
   "source": [
    "# Sum of Geometric Progression\n",
    "\n",
    "We have a geometric sequence: $a, a x, a x^2, a x^3, \\cdots, a x^{n-1}$\n",
    "\n",
    "What is the sum: $G(n) = a + a x + a x^2 + \\cdots + a x^{n-1}$?"
   ]
  },
  {
   "cell_type": "markdown",
   "metadata": {
    "toc-hr-collapsed": true
   },
   "source": [
    "## Method 1\n",
    "\n",
    "First method is to know that $a^n - b^n = (a-b)(a^{n-1} + a^{n-2}b + a^{n-3} b + \\cdots + ab^{n-2} + b^{n-1})$.\n",
    "\n",
    "Then we can see that $G(n) = a \\cdot ( 1 + x + \\cdots x^{n-1}) = a \\frac{x^n - 1}{x-1}$"
   ]
  },
  {
   "cell_type": "markdown",
   "metadata": {
    "toc-hr-collapsed": true
   },
   "source": [
    "## Method 2\n",
    "\n",
    "We play around and notice that multiplying by $x$ gives a similar eqn. and we go from there:\n",
    "\n",
    "\\begin{align}\n",
    "x \\cdot G(n) &= ax + ax^2 + a x^3 + \\cdots + a x^n\\\\\n",
    "x \\cdot G(n) - G(n) &= a x^n - a\\\\\n",
    "(x-1) \\cdot G(n) &= a (x^n - 1)\\\\\n",
    "\\cdot G(n) &= \\frac{a (x^n - 1)}{x-1}\\\\\n",
    "\\end{align}"
   ]
  },
  {
   "cell_type": "markdown",
   "metadata": {
    "toc-hr-collapsed": true
   },
   "source": []
  }
 ],
 "metadata": {
  "kernelspec": {
   "display_name": "Julia 1.1.0",
   "language": "julia",
   "name": "julia-1.1"
  },
  "language_info": {
   "file_extension": ".jl",
   "mimetype": "application/julia",
   "name": "julia",
   "version": "1.1.1"
  },
  "toc-autonumbering": true,
  "toc-showcode": true,
  "toc-showmarkdowntxt": true
 },
 "nbformat": 4,
 "nbformat_minor": 2
}
