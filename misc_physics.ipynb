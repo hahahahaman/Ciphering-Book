{
 "cells": [
  {
   "cell_type": "markdown",
   "metadata": {
    "toc-hr-collapsed": true
   },
   "source": [
    "# Terms\n",
    "---"
   ]
  },
  {
   "cell_type": "markdown",
   "metadata": {
    "toc-hr-collapsed": true
   },
   "source": [
    "## Mass-Energy\n",
    "\n",
    "Matter is mass-energy that moves with velocities less than the velocity of light. Radiant energy is any kind of mass-energy that moves with the velocity of light. (Linus - Gen. Chem., 1)"
   ]
  },
  {
   "cell_type": "markdown",
   "metadata": {
    "toc-hr-collapsed": true
   },
   "source": [
    "## Force\n",
    "\n",
    "Newton's second assumption: $F = ma$. Force is equal to the mass multiplied by the acceleration.\n",
    "\n",
    "$F$ is measured in *newtons* (N), which is the force required to accelerate $1 \\ kg$ by $1 \\ m \\ s^{-2}$."
   ]
  },
  {
   "cell_type": "markdown",
   "metadata": {
    "toc-hr-collapsed": false
   },
   "source": [
    "## Inertia\n",
    "\n",
    "The principle of inertia states that objects resist changes in motion. Newton's 1st assumption about motion is that objects move with constant velocity if no force is acting upon them. The force required to change a object's motion is proportional to the object's mass. ($F = ma$)"
   ]
  },
  {
   "cell_type": "markdown",
   "metadata": {},
   "source": [
    "## Tension\n",
    "\n",
    "Tension is not a force. Force has a definite direction. It is different forces acting on different parts of a body. One way to put it is that force is a vector (direction, magnitude), while tension is a tensor (multiple force vectors). (Thinking Physics 43)"
   ]
  },
  {
   "cell_type": "markdown",
   "metadata": {},
   "source": [
    "## Weight\n",
    "\n",
    "Weight is a force, as in, $ F = ma $. For a while I thought it was a mass. Notice that on different sized planets the weight will change."
   ]
  },
  {
   "cell_type": "markdown",
   "metadata": {},
   "source": [
    "## Momentum\n",
    "\n",
    "$p = mv$\n",
    "\n",
    "A measure of the amount of push an object can transfer.\n",
    "\n",
    "Conservation of momentum is a mathematical law that states that the sum of all the momentum in a system will be invariant."
   ]
  },
  {
   "cell_type": "markdown",
   "metadata": {},
   "source": [
    "## Impulse\n",
    "\n",
    "$F \\cdot t = \\Delta m v$\n",
    "\n",
    "A change in momentum creates a force along a period of time."
   ]
  },
  {
   "cell_type": "markdown",
   "metadata": {},
   "source": [
    "## Work\n",
    "\n",
    "$W = F \\cdot d$\n",
    "\n",
    "Work done is amount of force along a distance."
   ]
  },
  {
   "cell_type": "markdown",
   "metadata": {},
   "source": [
    "## Energy\n",
    "\n",
    "$E_p = F \\cdot h$, is gravitational potential energy.\n",
    "\n",
    "$E_k = \\frac{1}{2} m v^2$, is kinetic energy.\n",
    "\n",
    "Work is energy.\n",
    "\n",
    "Energy is measured in *joules* (J), which is the work done by 1 newton in 1 meter: $1 \\ J = 1 \\ N \\ m$."
   ]
  },
  {
   "cell_type": "markdown",
   "metadata": {},
   "source": [
    "## Calorie\n",
    "\n",
    "$1 \\ cal = 4.184 \\ J$\n",
    "\n",
    "$1 \\ kcal = 1 \\ Cal = 4.184 \\ kJ$\n",
    "\n",
    "Thermodynamic unit of energy, defined as $4.184 \\ J$, which is approximately the amount of energy needed to raise the temp of $1 \\ g$ of water by $1^{\\circ}C$. A kilocalorie is the approximately the energy needed to raise $1 \\ kg$ of water by $1^{\\circ}C$."
   ]
  },
  {
   "cell_type": "markdown",
   "metadata": {},
   "source": [
    "## Temperature\n",
    "\n",
    "Thermal energy flows from higher temperature objects to lower temperature object."
   ]
  },
  {
   "cell_type": "markdown",
   "metadata": {},
   "source": [
    "# Units"
   ]
  },
  {
   "cell_type": "markdown",
   "metadata": {},
   "source": [
    "## Speed of light\n",
    "\n",
    "$ c = 2.99792458 \\cdot 10^8 \\ m \\ s^{-1} $"
   ]
  },
  {
   "cell_type": "markdown",
   "metadata": {
    "toc-hr-collapsed": true
   },
   "source": [
    "# Gravity\n",
    "\n",
    "I know from video (that I have taken), that objects fall at an accelerating rate. Something, which we will call gravity, is causing them to fall at this accelerating rate.\n",
    "\n",
    "I have heard that this acceleration, in a vacuum, is $9.8 m/s^2$, towards the Earth. But clearly this must only be an approximation. Newton's law of Gravitation states that $F = \\frac{GMm}{r^2}$, so as an object moves closer to the other body then the distance, $r$, decreases, thus the force, $F$, must increase. Since $F = ma$, and given the assumption that an object's mass is constant throughout, the acceleration must be increasing at a quadratic rate. $a = \\frac{GM}{r^2}$, $\\frac{da}{dr} = \\frac{-2GM}{r^3}$ "
   ]
  },
  {
   "cell_type": "code",
   "execution_count": 18,
   "metadata": {},
   "outputs": [
    {
     "name": "stdout",
     "output_type": "stream",
     "text": [
      "\u001b[32m\u001b[1m Resolving\u001b[22m\u001b[39m package versions...\n",
      "\u001b[32m\u001b[1m  Updating\u001b[22m\u001b[39m `~/.julia/environments/v1.1/Project.toml`\n",
      "\u001b[90m [no changes]\u001b[39m\n",
      "\u001b[32m\u001b[1m  Updating\u001b[22m\u001b[39m `~/.julia/environments/v1.1/Manifest.toml`\n",
      "\u001b[90m [no changes]\u001b[39m\n"
     ]
    },
    {
     "data": {
      "application/vnd.plotly.v1+json": {
       "data": [
        {
         "colorbar": {
          "title": {
           "text": ""
          }
         },
         "hoverinfo": "text",
         "legendgroup": "y1",
         "line": {
          "color": "rgba(0, 154, 250, 1.000)",
          "dash": "solid",
          "shape": "linear",
          "width": 1
         },
         "mode": "lines",
         "name": "y1",
         "showlegend": true,
         "text": [
          null,
          null,
          null,
          null,
          null,
          null,
          null,
          null,
          null,
          null,
          null,
          null,
          null,
          null,
          null,
          null,
          null,
          null,
          null,
          null,
          null,
          null,
          null,
          null,
          null,
          null,
          null,
          null,
          null,
          null,
          null,
          null,
          null,
          null,
          null,
          null,
          null,
          null,
          null,
          null,
          null,
          null,
          null
         ],
         "type": "scatter",
         "x": [
          0.30329596391917846,
          0.306591927838357,
          0.3098878917575355,
          0.313183855676714,
          0.31647981959589244,
          0.31977578351507097,
          0.3230717474342495,
          0.32636771135342796,
          0.3416056841660017,
          0.35684365697857534,
          0.372081629791149,
          0.38731960260372267,
          0.40255757541629633,
          0.41779554822887,
          0.43303352104144366,
          0.4482714938540173,
          0.47874743947916465,
          0.509223385104312,
          0.5396993307294593,
          0.5701752763546066,
          0.6068048223972511,
          0.6434343684398955,
          0.68006391448254,
          0.7166934605251845,
          0.778633090528876,
          0.8405727205325675,
          0.9078565198109032,
          0.9751403190892388,
          1.0371700306663674,
          1.099199742243496,
          1.2322045552975227,
          1.3863036747140371,
          1.5232487864997577,
          1.6433373086585938,
          1.7742660329693625,
          1.9059729026325927,
          2.0515916890858916,
          2.1901442900110775,
          2.3342068474806466,
          2.4554768349004816,
          2.603533744163183,
          2.742711605747513,
          2.965685332843362
         ],
         "xaxis": "x",
         "y": [
          10.870930969119016,
          10.638455161261644,
          10.41335766412361,
          10.19532951896995,
          9.984077771022688,
          9.77932448487043,
          9.580805829829378,
          9.388271229633096,
          8.569388313589394,
          7.853152609808561,
          7.223098584864691,
          6.665934544360151,
          6.170835831015267,
          5.728915067879168,
          5.332820519484135,
          4.976428345882207,
          4.363018671736149,
          3.856411069921259,
          3.4331773684625437,
          3.0759780818832465,
          2.715826069840262,
          2.415413508231218,
          2.1622232757956885,
          1.9468528016679403,
          1.6494315103173096,
          1.4153029662881487,
          1.2132926490222646,
          1.051636794840439,
          0.9296084903303876,
          0.8276500854907819,
          0.6586191893108265,
          0.5203352536516556,
          0.4309811923850435,
          0.3702939101597438,
          0.31765999391897876,
          0.27527486359423,
          0.2375845185666934,
          0.20847526976545058,
          0.1835360253958189,
          0.16585490402688505,
          0.147527702212418,
          0.1329351137520079,
          0.11369722403629794
         ],
         "yaxis": "y",
         "zmax": 0.1,
         "zmin": -0.1
        }
       ],
       "layout": {
        "annotations": [],
        "height": 400,
        "legend": {
         "bgcolor": "rgba(255, 255, 255, 1.000)",
         "bordercolor": "rgba(0, 0, 0, 1)",
         "font": {
          "color": "rgba(0, 0, 0, 1)",
          "family": "sans-serif",
          "size": 11
         },
         "tracegroupgap": 0,
         "x": 1,
         "y": 1
        },
        "margin": {
         "b": 20,
         "l": 0,
         "r": 0,
         "t": 20
        },
        "paper_bgcolor": "rgba(255, 255, 255, 1.000)",
        "plot_bgcolor": "rgba(255, 255, 255, 1.000)",
        "showlegend": true,
        "width": 600,
        "xaxis": {
         "anchor": "y",
         "autorange": false,
         "domain": [
          0.0658209390492855,
          0.9934383202099738
         ],
         "gridcolor": "rgba(0, 0, 0, 0.1)",
         "gridwidth": 0.5,
         "linecolor": "rgba(0, 0, 0, 1)",
         "mirror": false,
         "range": [
          0.22342428285145297,
          3.0455570139110875
         ],
         "showgrid": true,
         "showline": true,
         "showspikes": false,
         "showticklabels": true,
         "tickangle": 0,
         "tickcolor": "rgb(0, 0, 0)",
         "tickfont": {
          "color": "rgba(0, 0, 0, 1)",
          "family": "sans-serif",
          "size": 11
         },
         "tickmode": "array",
         "ticks": "inside",
         "ticktext": [
          "0.5",
          "1.0",
          "1.5",
          "2.0",
          "2.5",
          "3.0"
         ],
         "tickvals": [
          0.5,
          1,
          1.5,
          2,
          2.5,
          3
         ],
         "title": {
          "font": {
           "color": "rgba(0, 0, 0, 1)",
           "family": "sans-serif",
           "size": 15
          },
          "text": ""
         },
         "type": "linear",
         "visible": true,
         "zeroline": false,
         "zerolinecolor": "rgba(0, 0, 0, 1)"
        },
        "yaxis": {
         "anchor": "x",
         "autorange": false,
         "domain": [
          0.03762029746281716,
          0.9901574803149606
         ],
         "gridcolor": "rgba(0, 0, 0, 0.1)",
         "gridwidth": 0.5,
         "linecolor": "rgba(0, 0, 0, 1)",
         "mirror": false,
         "range": [
          -0.20901978831618362,
          11.193647981471496
         ],
         "showgrid": true,
         "showline": true,
         "showspikes": false,
         "showticklabels": true,
         "tickangle": 0,
         "tickcolor": "rgb(0, 0, 0)",
         "tickfont": {
          "color": "rgba(0, 0, 0, 1)",
          "family": "sans-serif",
          "size": 11
         },
         "tickmode": "array",
         "ticks": "inside",
         "ticktext": [
          "0.0",
          "0.5",
          "1.0",
          "1.5",
          "2.0",
          "2.5",
          "3.0",
          "3.5",
          "4.0",
          "4.5",
          "5.0",
          "5.5",
          "6.0",
          "6.5",
          "7.0",
          "7.5",
          "8.0",
          "8.5",
          "9.0",
          "9.5",
          "10.0",
          "10.5",
          "11.0"
         ],
         "tickvals": [
          0,
          0.5,
          1,
          1.5,
          2,
          2.5,
          3,
          3.5,
          4,
          4.5,
          5,
          5.5,
          6,
          6.5,
          7,
          7.5,
          8,
          8.5,
          9,
          9.5,
          10,
          10.5,
          11
         ],
         "title": {
          "font": {
           "color": "rgba(0, 0, 0, 1)",
           "family": "sans-serif",
           "size": 15
          },
          "text": ""
         },
         "type": "linear",
         "visible": true,
         "zeroline": false,
         "zerolinecolor": "rgba(0, 0, 0, 1)"
        }
       }
      },
      "image/png": "[encoded data removed]",
      "text/html": [
       "<div\n",
       "    class=\"webio-mountpoint\"\n",
       "    data-webio-mountpoint=\"5920422563446219223\"\n",
       ">\n",
       "    <script>\n",
       "    if (window.require && require.defined && require.defined(\"nbextensions/webio/main\")) {\n",
       "        console.log(\"Jupyter WebIO extension detected, not mounting.\");\n",
       "    } else if (window.WebIO) {\n",
       "        WebIO.mount(\n",
       "            document.querySelector('[data-webio-mountpoint=\"5920422563446219223\"]'),\n",
       "            {\"props\":{},\"nodeType\":\"Scope\",\"type\":\"node\",\"instanceArgs\":{\"imports\":{\"data\":[{\"name\":\"Plotly\",\"type\":\"js\",\"url\":\"\\/assetserver\\/2485a04a53cc49cd9ea3a619e5b963c9d512c66f-plotly-latest.min.js\"},{\"name\":null,\"type\":\"js\",\"url\":\"\\/assetserver\\/93154263877eba2f486c55e4659733c4d48649ce-plotly_webio.bundle.js\"}],\"type\":\"async_block\"},\"id\":\"scope-85e46091-2e8b-446f-8d84-cb1e4ca3cbbd\",\"handlers\":{\"_toImage\":[\"(function (options){return this.Plotly.toImage(this.plotElem,options).then((function (data){return WebIO.setval({\\\"name\\\":\\\"image\\\",\\\"scope\\\":\\\"scope-85e46091-2e8b-446f-8d84-cb1e4ca3cbbd\\\",\\\"id\\\":\\\"ob_165\\\",\\\"type\\\":\\\"observable\\\"},data)}))})\"],\"__get_gd_contents\":[\"(function (prop){prop==\\\"data\\\" ? (WebIO.setval({\\\"name\\\":\\\"__gd_contents\\\",\\\"scope\\\":\\\"scope-85e46091-2e8b-446f-8d84-cb1e4ca3cbbd\\\",\\\"id\\\":\\\"ob_166\\\",\\\"type\\\":\\\"observable\\\"},this.plotElem.data)) : undefined; return prop==\\\"layout\\\" ? (WebIO.setval({\\\"name\\\":\\\"__gd_contents\\\",\\\"scope\\\":\\\"scope-85e46091-2e8b-446f-8d84-cb1e4ca3cbbd\\\",\\\"id\\\":\\\"ob_166\\\",\\\"type\\\":\\\"observable\\\"},this.plotElem.layout)) : undefined})\"],\"_downloadImage\":[\"(function (options){return this.Plotly.downloadImage(this.plotElem,options)})\"],\"_commands\":[\"(function (args){var fn=args.shift(); var elem=this.plotElem; var Plotly=this.Plotly; args.unshift(elem); return Plotly[fn].apply(this,args)})\"]},\"systemjs_options\":null,\"mount_callbacks\":[\"function () {\\n    var handler = ((function (Plotly){var gd=this.dom.querySelector(\\\"#plot-d19f3fef-ac75-45bf-92be-68c3749ceda4\\\"); this.plotElem=gd; this.Plotly=Plotly; (window.Blink!==undefined) ? (gd.style.width=\\\"100%\\\", gd.style.height=\\\"100vh\\\", gd.style.marginLeft=\\\"0%\\\", gd.style.marginTop=\\\"0vh\\\") : undefined; window.onresize=(function (){return Plotly.Plots.resize(gd)}); Plotly.newPlot(gd,[],{\\\"margin\\\":{\\\"l\\\":50,\\\"b\\\":50,\\\"r\\\":50,\\\"t\\\":60}},{}); gd.on(\\\"plotly_hover\\\",(function (data){var filtered_data=WebIO.PlotlyCommands.filterEventData(gd,data,\\\"hover\\\"); return !(filtered_data.isnil) ? (WebIO.setval({\\\"name\\\":\\\"hover\\\",\\\"scope\\\":\\\"scope-85e46091-2e8b-446f-8d84-cb1e4ca3cbbd\\\",\\\"id\\\":\\\"ob_161\\\",\\\"type\\\":\\\"observable\\\"},filtered_data.out)) : undefined})); gd.on(\\\"plotly_unhover\\\",(function (){return WebIO.setval({\\\"name\\\":\\\"hover\\\",\\\"scope\\\":\\\"scope-85e46091-2e8b-446f-8d84-cb1e4ca3cbbd\\\",\\\"id\\\":\\\"ob_161\\\",\\\"type\\\":\\\"observable\\\"},{})})); gd.on(\\\"plotly_selected\\\",(function (data){var filtered_data=WebIO.PlotlyCommands.filterEventData(gd,data,\\\"selected\\\"); return !(filtered_data.isnil) ? (WebIO.setval({\\\"name\\\":\\\"selected\\\",\\\"scope\\\":\\\"scope-85e46091-2e8b-446f-8d84-cb1e4ca3cbbd\\\",\\\"id\\\":\\\"ob_162\\\",\\\"type\\\":\\\"observable\\\"},filtered_data.out)) : undefined})); gd.on(\\\"plotly_deselect\\\",(function (){return WebIO.setval({\\\"name\\\":\\\"selected\\\",\\\"scope\\\":\\\"scope-85e46091-2e8b-446f-8d84-cb1e4ca3cbbd\\\",\\\"id\\\":\\\"ob_162\\\",\\\"type\\\":\\\"observable\\\"},{})})); gd.on(\\\"plotly_relayout\\\",(function (data){var filtered_data=WebIO.PlotlyCommands.filterEventData(gd,data,\\\"relayout\\\"); return !(filtered_data.isnil) ? (WebIO.setval({\\\"name\\\":\\\"relayout\\\",\\\"scope\\\":\\\"scope-85e46091-2e8b-446f-8d84-cb1e4ca3cbbd\\\",\\\"id\\\":\\\"ob_164\\\",\\\"type\\\":\\\"observable\\\"},filtered_data.out)) : undefined})); return gd.on(\\\"plotly_click\\\",(function (data){var filtered_data=WebIO.PlotlyCommands.filterEventData(gd,data,\\\"click\\\"); return !(filtered_data.isnil) ? (WebIO.setval({\\\"name\\\":\\\"click\\\",\\\"scope\\\":\\\"scope-85e46091-2e8b-446f-8d84-cb1e4ca3cbbd\\\",\\\"id\\\":\\\"ob_163\\\",\\\"type\\\":\\\"observable\\\"},filtered_data.out)) : undefined}))}));\\n    (WebIO.importBlock({\\\"data\\\":[{\\\"name\\\":\\\"Plotly\\\",\\\"type\\\":\\\"js\\\",\\\"url\\\":\\\"\\/assetserver\\/2485a04a53cc49cd9ea3a619e5b963c9d512c66f-plotly-latest.min.js\\\"},{\\\"name\\\":null,\\\"type\\\":\\\"js\\\",\\\"url\\\":\\\"\\/assetserver\\/93154263877eba2f486c55e4659733c4d48649ce-plotly_webio.bundle.js\\\"}],\\\"type\\\":\\\"async_block\\\"})).then((imports) => handler.apply(this, imports));\\n}\\n\"],\"observables\":{\"_toImage\":{\"sync\":false,\"id\":\"ob_168\",\"value\":{}},\"hover\":{\"sync\":false,\"id\":\"ob_161\",\"value\":{}},\"selected\":{\"sync\":false,\"id\":\"ob_162\",\"value\":{}},\"__gd_contents\":{\"sync\":false,\"id\":\"ob_166\",\"value\":{}},\"click\":{\"sync\":false,\"id\":\"ob_163\",\"value\":{}},\"image\":{\"sync\":true,\"id\":\"ob_165\",\"value\":\"\"},\"__get_gd_contents\":{\"sync\":false,\"id\":\"ob_170\",\"value\":\"\"},\"_downloadImage\":{\"sync\":false,\"id\":\"ob_169\",\"value\":{}},\"relayout\":{\"sync\":false,\"id\":\"ob_164\",\"value\":{}},\"_commands\":{\"sync\":false,\"id\":\"ob_167\",\"value\":[\"relayout\",{\"showlegend\":true,\"xaxis\":{\"showticklabels\":true,\"gridwidth\":0.5,\"tickvals\":[0.5,1.0,1.5,2.0,2.5,3.0],\"visible\":true,\"ticks\":\"inside\",\"range\":[0.22342428285145297,3.0455570139110875],\"domain\":[0.0658209390492855,0.9934383202099738],\"tickmode\":\"array\",\"linecolor\":\"rgba(0, 0, 0, 1.000)\",\"showgrid\":true,\"title\":\"\",\"mirror\":false,\"tickangle\":0,\"showline\":true,\"gridcolor\":\"rgba(0, 0, 0, 0.100)\",\"titlefont\":{\"color\":\"rgba(0, 0, 0, 1.000)\",\"family\":\"sans-serif\",\"size\":15},\"tickcolor\":\"rgb(0, 0, 0)\",\"ticktext\":[\"0.5\",\"1.0\",\"1.5\",\"2.0\",\"2.5\",\"3.0\"],\"zeroline\":false,\"type\":\"-\",\"tickfont\":{\"color\":\"rgba(0, 0, 0, 1.000)\",\"family\":\"sans-serif\",\"size\":11},\"zerolinecolor\":\"rgba(0, 0, 0, 1.000)\",\"anchor\":\"y1\"},\"paper_bgcolor\":\"rgba(255, 255, 255, 1.000)\",\"annotations\":[],\"height\":400,\"margin\":{\"l\":0,\"b\":20,\"r\":0,\"t\":20},\"plot_bgcolor\":\"rgba(255, 255, 255, 1.000)\",\"yaxis\":{\"showticklabels\":true,\"gridwidth\":0.5,\"tickvals\":[0.0,0.5,1.0,1.5,2.0,2.5,3.0,3.5,4.0,4.5,5.0,5.5,6.0,6.5,7.0,7.5,8.0,8.5,9.0,9.5,10.0,10.5,11.0],\"visible\":true,\"ticks\":\"inside\",\"range\":[-0.20901978831618362,11.193647981471496],\"domain\":[0.03762029746281716,0.9901574803149606],\"tickmode\":\"array\",\"linecolor\":\"rgba(0, 0, 0, 1.000)\",\"showgrid\":true,\"title\":\"\",\"mirror\":false,\"tickangle\":0,\"showline\":true,\"gridcolor\":\"rgba(0, 0, 0, 0.100)\",\"titlefont\":{\"color\":\"rgba(0, 0, 0, 1.000)\",\"family\":\"sans-serif\",\"size\":15},\"tickcolor\":\"rgb(0, 0, 0)\",\"ticktext\":[\"0.0\",\"0.5\",\"1.0\",\"1.5\",\"2.0\",\"2.5\",\"3.0\",\"3.5\",\"4.0\",\"4.5\",\"5.0\",\"5.5\",\"6.0\",\"6.5\",\"7.0\",\"7.5\",\"8.0\",\"8.5\",\"9.0\",\"9.5\",\"10.0\",\"10.5\",\"11.0\"],\"zeroline\":false,\"type\":\"-\",\"tickfont\":{\"color\":\"rgba(0, 0, 0, 1.000)\",\"family\":\"sans-serif\",\"size\":11},\"zerolinecolor\":\"rgba(0, 0, 0, 1.000)\",\"anchor\":\"x1\"},\"legend\":{\"tracegroupgap\":0,\"bordercolor\":\"rgba(0, 0, 0, 1.000)\",\"bgcolor\":\"rgba(255, 255, 255, 1.000)\",\"font\":{\"color\":\"rgba(0, 0, 0, 1.000)\",\"family\":\"sans-serif\",\"size\":11},\"y\":1.0,\"x\":1.0},\"width\":600}]}}},\"children\":[{\"props\":{\"id\":\"plot-d19f3fef-ac75-45bf-92be-68c3749ceda4\"},\"nodeType\":\"DOM\",\"type\":\"node\",\"instanceArgs\":{\"namespace\":\"html\",\"tag\":\"div\"},\"children\":[]}]},\n",
       "            window,\n",
       "        );\n",
       "    } else {\n",
       "        document\n",
       "            .querySelector('[data-webio-mountpoint=\"5920422563446219223\"]')\n",
       "            .innerHTML = '<strong>WebIO not detected.</strong>';\n",
       "    }\n",
       "    </script>\n",
       "</div>\n"
      ]
     },
     "execution_count": 18,
     "metadata": {},
     "output_type": "execute_result"
    }
   ],
   "source": [
    "# let's graph r^-2 just to get some intuition\n",
    "using Pkg\n",
    "Pkg.add(\"Plots\")\n",
    "using Plots\n",
    "plotlyjs()\n",
    "\n",
    "a(x) = x^-2\n",
    "#plot(sin, 0,1, fmt = :png)\n",
    "plot(a, 0.3, 3, yticks = 0:0.5:20,)"
   ]
  },
  {
   "cell_type": "markdown",
   "metadata": {
    "toc-hr-collapsed": false
   },
   "source": [
    "# Problems\n",
    "\n",
    "---"
   ]
  },
  {
   "cell_type": "markdown",
   "metadata": {
    "toc-hr-collapsed": false
   },
   "source": [
    "## Thinking Physics p. 38, STRONGMAN\n",
    "\n",
    "When the strongman suspends the 10-lb telephone book with the rope held vertically the tension in each strand is 5 lbs. If the strongman could suspend the book from the strands pulled horizontally, the tension in each strand would be?"
   ]
  },
  {
   "cell_type": "markdown",
   "metadata": {
    "toc-hr-collapsed": false
   },
   "source": [
    "### Answer\n",
    "\n",
    "We can use a visual representation of the force vectors. We know there is a down force of the book which we must counteract, so we need an equal upward force created from pulled the two ends of the rope.\n",
    "\n",
    "<img src=\"imgs/string_tension_white.png\" alt=\"string tesion\" style=\"width: 700px;\"/>\n",
    "\n",
    "The dotted line represents the sum of the forces on either ends of the rope. We always need this sum to equal the upward force vector.\n",
    "\n",
    "As we can see from the different colored tensions, the gradient of the rope is directly proportional to the magnitude of the tension. For the rope to be absolutely straight the magnitude of the tension will approach infinity."
   ]
  },
  {
   "cell_type": "markdown",
   "metadata": {},
   "source": [
    "# Questions"
   ]
  },
  {
   "cell_type": "markdown",
   "metadata": {},
   "source": [
    "## What is the distance from the surface of the earth to the surface of the moon, sun, and other planets?"
   ]
  },
  {
   "cell_type": "markdown",
   "metadata": {},
   "source": [
    "## What shape is the Earth?"
   ]
  },
  {
   "cell_type": "markdown",
   "metadata": {},
   "source": [
    "## What is gravity?"
   ]
  },
  {
   "cell_type": "markdown",
   "metadata": {},
   "source": [
    "## How do Wheels work?"
   ]
  },
  {
   "cell_type": "markdown",
   "metadata": {},
   "source": [
    "## At Mt. Everest boiling point of water turns to about 71 degrees Celsius. Why?"
   ]
  },
  {
   "cell_type": "markdown",
   "metadata": {},
   "source": [
    "## How does a lever work?\n",
    "\n",
    "I've been trying to think of an intuitive description of why a lever works assuming the physical terms mentioned above are true.\n",
    "\n",
    "We know the work formula is $W = F \\cdot d$. Suppose we want to lift a heavy object up. The work require cannot be changed, but if we increase the distance travel we can decrease the average force applied. That's where the lever comes in:\n",
    "\n",
    "![Lever](imgs/lever.png)\n",
    "\n",
    "The lever is stick on a fulcrum. We can imagine that the stick is separated into a short part, $AB$, and a longer part, $BC$.  When we move the stick, we can see the path of the ends of the sticks are formed by circumferences of two circles of different diameter. The stick is straight so $AB$ and $BC$ have equal angular change, $|\\theta|$, but the arc distance formula is $\\theta r$, and since the circle formed by $BC$ has a longer radius, the point $BC$ will move a greater distance than $AB$.\n",
    "\n",
    "Thus we can apply less force over a larger distance on $B$ to move something on $A$.\n",
    "\n",
    "### What does this say about arm wrestling?\n",
    "\n",
    "If you have a longer forearm you can apply less force over a longer distance to gain an advantage over a shorter forearm."
   ]
  }
 ],
 "metadata": {
  "kernelspec": {
   "display_name": "Julia 1.1.0",
   "language": "julia",
   "name": "julia-1.1"
  },
  "language_info": {
   "file_extension": ".jl",
   "mimetype": "application/julia",
   "name": "julia",
   "version": "1.1.0"
  },
  "toc-autonumbering": true,
  "toc-showcode": true,
  "toc-showmarkdowntxt": true
 },
 "nbformat": 4,
 "nbformat_minor": 2
}
