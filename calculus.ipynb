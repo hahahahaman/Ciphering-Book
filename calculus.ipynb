{
 "cells": [
  {
   "cell_type": "markdown",
   "metadata": {},
   "source": [
    "Integration and Differentiation are inverse processes, like multiplication and division, addition and subtraction, sin and arcsin, matrix multiplication and inverse matrix multiplication.\n",
    "\n",
    "## Area\n",
    "\n",
    "What do I believe is true about area?\n",
    "\n",
    "- square: $A =s^2$\n",
    "- triangle: $A = \\frac{bh}{2}$\n",
    "- areas can be summed up\n",
    "- two congruent objects have the same area"
   ]
  },
  {
   "cell_type": "markdown",
   "metadata": {},
   "source": [
    "Hamming - Methods of Math\n",
    "\n",
    "### Exercise 11.2 \n",
    "\n",
    "Draw a right triangle and drop a perpendicular from the right angle to the hypotenuse. This divides the original triangle $T_1$ into two triangles $T_2$ and $T_3$. The 3 triangles are similar. Derive Pythagoras' theorem."
   ]
  },
  {
   "cell_type": "markdown",
   "metadata": {},
   "source": [
    "#### Answer\n",
    "\n",
    "<img src=\"imgs/pythagoras.png\" alt=\"pythagoras\" style=\"width: 1000px;\"/>"
   ]
  },
  {
   "cell_type": "markdown",
   "metadata": {},
   "source": [
    "## Ideas:\n",
    "\n",
    "- I could use trig. (sin, cos).\n",
    "- I could use ratios? (also trig.)\n",
    "\n",
    "## Solution\n",
    "\n",
    "We know: \n",
    "\n",
    "$AD + CD = AC$\n",
    "\n",
    "$sin(\\theta) = \\frac{AB}{AC} = \\frac{AD}{AB} $\n",
    "\n",
    "$\\frac{AB^2}{AC} = AD$\n",
    "\n",
    "$sin(\\phi) = \\frac{BC}{AC} = \\frac{CD}{BC}$\n",
    "\n",
    "$\\frac{BC^2}{AC} = CD$\n",
    "\n",
    "$AD + CD = \\frac{AB^2}{AC} + \\frac{BC^2}{AC} = AC$\n",
    "\n",
    "Which produces Pythagoras' theorem:\n",
    "\n",
    "$AB^2 + BC^2 = AC^2$\n"
   ]
  }
 ],
 "metadata": {
  "kernelspec": {
   "display_name": "Julia 1.1.0",
   "language": "julia",
   "name": "julia-1.1"
  },
  "language_info": {
   "file_extension": ".jl",
   "mimetype": "application/julia",
   "name": "julia",
   "version": "1.1.0"
  }
 },
 "nbformat": 4,
 "nbformat_minor": 2
}
