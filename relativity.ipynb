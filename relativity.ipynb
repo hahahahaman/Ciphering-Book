{
 "cells": [
  {
   "cell_type": "markdown",
   "metadata": {},
   "source": [
    "[Flat Earth FAQ](https://wiki.tfes.org/Flat_Earth_-_Frequently_Asked_Questions)\n",
    "\n",
    "They present the idea of a universal accelerator, which, because of the Equivalence Principle, is indistinguisable from gravity.\n",
    "\n",
    "Q: What is Special Relativity?\n",
    "Q: Can it explain why the Earth is flat, round, or some other shape?"
   ]
  },
  {
   "cell_type": "markdown",
   "metadata": {},
   "source": [
    "\\begin{equation*}\n",
    "v' = \\frac{a \\cdot t}{\\sqrt{1+(a^2 \\cdot \\frac{t^2}{c^2})}}\n",
    "\\end{equation*}"
   ]
  },
  {
   "cell_type": "code",
   "execution_count": null,
   "metadata": {},
   "outputs": [],
   "source": [
    "c = 3e8\n",
    "function v(a, t)\n",
    "    # SR velocity equation\n",
    "    a*t/sqrt(1+(a^2 * t^2 / c^2))\n",
    "end\n",
    "v(10, 200.0*365*24*60*60)/c"
   ]
  }
 ],
 "metadata": {
  "kernelspec": {
   "display_name": "Julia 1.1.0",
   "language": "julia",
   "name": "julia-1.1"
  },
  "language_info": {
   "file_extension": ".jl",
   "mimetype": "application/julia",
   "name": "julia",
   "version": "1.1.0"
  }
 },
 "nbformat": 4,
 "nbformat_minor": 2
}
